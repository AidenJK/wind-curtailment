{
 "cells": [
  {
   "cell_type": "code",
   "execution_count": 79,
   "metadata": {},
   "outputs": [],
   "source": [
    "import pandas as pd\n",
    "import plotly.express as px\n",
    "import numpy as np"
   ]
  },
  {
   "cell_type": "code",
   "execution_count": 29,
   "metadata": {},
   "outputs": [],
   "source": [
    "df_bm_units = pd.read_excel(\"../data/BMUFuelType.xls\", header=0)"
   ]
  },
  {
   "cell_type": "code",
   "execution_count": 136,
   "metadata": {},
   "outputs": [],
   "source": [
    "df_fpn = pd.read_csv(\n",
    "    \"../data/PhysicalData_20220319_27.csv\",\n",
    "    skiprows=lambda x: x > 1541 or x == 0,\n",
    "    names=[\n",
    "        \"Notification Type\",\n",
    "        \"Unit ID\",\n",
    "        \"Settlement Period\",\n",
    "        \"From Time\",\n",
    "        \"From Level\",\n",
    "        \"To Time\",\n",
    "        \"To Level\",\n",
    "    ],\n",
    "    parse_dates=[\"From Time\", \"To Time\"],\n",
    "    date_parser=lambda x: pd.to_datetime(x, format=\"%Y%m%d%H%M%S\"),\n",
    ")  # This includes other kinds of data with different cols\n",
    "\n",
    "df_fpn = (\n",
    "    df_fpn.set_index(\"Unit ID\")\n",
    "    .join(df_bm_units.set_index(\"SETT_BMU_ID\")[\"FUEL TYPE\"])\n",
    "    .rename(columns={\"FUEL TYPE\": \"Fuel Type\"})\n",
    ")"
   ]
  },
  {
   "cell_type": "markdown",
   "metadata": {},
   "source": [
    "There are many different forms here:\n",
    "- FPN (Final Physical Notification): what the operators tell the grid they're going to generate\n",
    "- QPN (Quiescent Physical Notifications)\n",
    "- MEL (Maximum Export Limit)\n",
    "- MIL (Maximum Import Limit)\n",
    "- BOAL (Bid-Offer Acceptance Level Data)"
   ]
  },
  {
   "cell_type": "code",
   "execution_count": 137,
   "metadata": {},
   "outputs": [],
   "source": [
    "df_boal = pd.read_csv(\n",
    "    \"../data/PhysicalData_20220319_27.csv\",\n",
    "    skiprows=lambda x: x < 5718,\n",
    "    names=[\n",
    "        \"Notification Type\",\n",
    "        \"Unit ID\",\n",
    "        \"Accept ID\",\n",
    "        \"Accept Time\",\n",
    "        \"Deemed Flag\",\n",
    "        \"SO Flag\",\n",
    "        \"STOR Provider Flag\",\n",
    "        \"RR Instruction Flag\",\n",
    "        \"RR Schedule Flag\",\n",
    "        \"From Time\",\n",
    "        \"From Level\",\n",
    "        \"To Time\",\n",
    "        \"To Level\",\n",
    "    ],\n",
    "    parse_dates=[\"Accept Time\", \"From Time\", \"To Time\"],\n",
    "    date_parser=lambda x: pd.to_datetime(x, format=\"%Y%m%d%H%M%S\"),\n",
    ")  # This includes other kinds of data with different cols\n",
    "\n",
    "df_boal = df_boal[df_boal[\"Notification Type\"] == \"BOALF\"]\n",
    "df_boal['Accept ID'] = df_boal['Accept ID'].astype(int)\n",
    "df_boal = (\n",
    "    df_boal.set_index(\"Unit ID\")\n",
    "    .join(df_bm_units.set_index(\"SETT_BMU_ID\")[\"FUEL TYPE\"])\n",
    "    .rename(columns={\"FUEL TYPE\": \"Fuel Type\"})\n",
    ")"
   ]
  },
  {
   "cell_type": "code",
   "execution_count": 138,
   "metadata": {},
   "outputs": [],
   "source": [
    "BOOL_COLS = [\n",
    "    \"Deemed Flag\",\n",
    "    \"SO Flag\",\n",
    "    \"STOR Provider Flag\",\n",
    "    \"RR Instruction Flag\",\n",
    "    \"RR Schedule Flag\",\n",
    "]\n",
    "\n",
    "df_boal[BOOL_COLS] = df_boal[BOOL_COLS].apply(lambda x: x == \"T\")"
   ]
  },
  {
   "cell_type": "code",
   "execution_count": 139,
   "metadata": {},
   "outputs": [
    {
     "data": {
      "text/html": [
       "<div>\n",
       "<style scoped>\n",
       "    .dataframe tbody tr th:only-of-type {\n",
       "        vertical-align: middle;\n",
       "    }\n",
       "\n",
       "    .dataframe tbody tr th {\n",
       "        vertical-align: top;\n",
       "    }\n",
       "\n",
       "    .dataframe thead th {\n",
       "        text-align: right;\n",
       "    }\n",
       "</style>\n",
       "<table border=\"1\" class=\"dataframe\">\n",
       "  <thead>\n",
       "    <tr style=\"text-align: right;\">\n",
       "      <th></th>\n",
       "      <th>Notification Type</th>\n",
       "      <th>Accept ID</th>\n",
       "      <th>Accept Time</th>\n",
       "      <th>Deemed Flag</th>\n",
       "      <th>SO Flag</th>\n",
       "      <th>STOR Provider Flag</th>\n",
       "      <th>RR Instruction Flag</th>\n",
       "      <th>RR Schedule Flag</th>\n",
       "      <th>From Time</th>\n",
       "      <th>From Level</th>\n",
       "      <th>To Time</th>\n",
       "      <th>To Level</th>\n",
       "      <th>Fuel Type</th>\n",
       "    </tr>\n",
       "  </thead>\n",
       "  <tbody>\n",
       "    <tr>\n",
       "      <th>T_CARR-1</th>\n",
       "      <td>BOALF</td>\n",
       "      <td>79613</td>\n",
       "      <td>2022-03-19 12:09:00</td>\n",
       "      <td>False</td>\n",
       "      <td>True</td>\n",
       "      <td>False</td>\n",
       "      <td>False</td>\n",
       "      <td>False</td>\n",
       "      <td>2022-03-19 13:00:00</td>\n",
       "      <td>176.0</td>\n",
       "      <td>2022-03-19 13:30:00</td>\n",
       "      <td>176.0</td>\n",
       "      <td>CCGT</td>\n",
       "    </tr>\n",
       "    <tr>\n",
       "      <th>T_CARR-1</th>\n",
       "      <td>BOALF</td>\n",
       "      <td>79614</td>\n",
       "      <td>2022-03-19 12:44:00</td>\n",
       "      <td>False</td>\n",
       "      <td>True</td>\n",
       "      <td>False</td>\n",
       "      <td>False</td>\n",
       "      <td>False</td>\n",
       "      <td>2022-03-19 12:46:00</td>\n",
       "      <td>176.0</td>\n",
       "      <td>2022-03-19 13:46:00</td>\n",
       "      <td>176.0</td>\n",
       "      <td>CCGT</td>\n",
       "    </tr>\n",
       "    <tr>\n",
       "      <th>T_CARR-1</th>\n",
       "      <td>BOALF</td>\n",
       "      <td>79615</td>\n",
       "      <td>2022-03-19 13:26:00</td>\n",
       "      <td>False</td>\n",
       "      <td>True</td>\n",
       "      <td>False</td>\n",
       "      <td>False</td>\n",
       "      <td>False</td>\n",
       "      <td>2022-03-19 13:28:00</td>\n",
       "      <td>176.0</td>\n",
       "      <td>2022-03-19 14:13:00</td>\n",
       "      <td>176.0</td>\n",
       "      <td>CCGT</td>\n",
       "    </tr>\n",
       "    <tr>\n",
       "      <th>T_EAAO-1</th>\n",
       "      <td>BOALF</td>\n",
       "      <td>4379</td>\n",
       "      <td>2022-03-19 12:46:00</td>\n",
       "      <td>False</td>\n",
       "      <td>True</td>\n",
       "      <td>False</td>\n",
       "      <td>False</td>\n",
       "      <td>False</td>\n",
       "      <td>2022-03-19 12:49:00</td>\n",
       "      <td>230.0</td>\n",
       "      <td>2022-03-19 13:19:00</td>\n",
       "      <td>230.0</td>\n",
       "      <td>WIND</td>\n",
       "    </tr>\n",
       "    <tr>\n",
       "      <th>T_EAAO-1</th>\n",
       "      <td>BOALF</td>\n",
       "      <td>4379</td>\n",
       "      <td>2022-03-19 12:46:00</td>\n",
       "      <td>False</td>\n",
       "      <td>True</td>\n",
       "      <td>False</td>\n",
       "      <td>False</td>\n",
       "      <td>False</td>\n",
       "      <td>2022-03-19 13:19:00</td>\n",
       "      <td>230.0</td>\n",
       "      <td>2022-03-19 13:22:00</td>\n",
       "      <td>336.0</td>\n",
       "      <td>WIND</td>\n",
       "    </tr>\n",
       "    <tr>\n",
       "      <th>T_EAAO-1</th>\n",
       "      <td>BOALF</td>\n",
       "      <td>4380</td>\n",
       "      <td>2022-03-19 13:04:00</td>\n",
       "      <td>False</td>\n",
       "      <td>True</td>\n",
       "      <td>False</td>\n",
       "      <td>False</td>\n",
       "      <td>False</td>\n",
       "      <td>2022-03-19 13:19:00</td>\n",
       "      <td>230.0</td>\n",
       "      <td>2022-03-19 13:49:00</td>\n",
       "      <td>230.0</td>\n",
       "      <td>WIND</td>\n",
       "    </tr>\n",
       "    <tr>\n",
       "      <th>T_LAGA-1</th>\n",
       "      <td>BOALF</td>\n",
       "      <td>133192</td>\n",
       "      <td>2022-03-19 12:00:00</td>\n",
       "      <td>False</td>\n",
       "      <td>True</td>\n",
       "      <td>False</td>\n",
       "      <td>False</td>\n",
       "      <td>False</td>\n",
       "      <td>2022-03-19 13:20:00</td>\n",
       "      <td>0.0</td>\n",
       "      <td>2022-03-19 13:30:00</td>\n",
       "      <td>17.0</td>\n",
       "      <td>CCGT</td>\n",
       "    </tr>\n",
       "    <tr>\n",
       "      <th>T_LAGA-1</th>\n",
       "      <td>BOALF</td>\n",
       "      <td>133193</td>\n",
       "      <td>2022-03-19 12:32:00</td>\n",
       "      <td>False</td>\n",
       "      <td>True</td>\n",
       "      <td>False</td>\n",
       "      <td>False</td>\n",
       "      <td>False</td>\n",
       "      <td>2022-03-19 13:29:00</td>\n",
       "      <td>16.0</td>\n",
       "      <td>2022-03-19 14:00:00</td>\n",
       "      <td>71.0</td>\n",
       "      <td>CCGT</td>\n",
       "    </tr>\n",
       "    <tr>\n",
       "      <th>T_MRWD-1</th>\n",
       "      <td>BOALF</td>\n",
       "      <td>144962</td>\n",
       "      <td>2022-03-19 12:01:00</td>\n",
       "      <td>False</td>\n",
       "      <td>True</td>\n",
       "      <td>False</td>\n",
       "      <td>False</td>\n",
       "      <td>False</td>\n",
       "      <td>2022-03-19 12:59:00</td>\n",
       "      <td>450.0</td>\n",
       "      <td>2022-03-19 13:30:00</td>\n",
       "      <td>450.0</td>\n",
       "      <td>CCGT</td>\n",
       "    </tr>\n",
       "    <tr>\n",
       "      <th>T_MRWD-1</th>\n",
       "      <td>BOALF</td>\n",
       "      <td>144965</td>\n",
       "      <td>2022-03-19 12:32:00</td>\n",
       "      <td>False</td>\n",
       "      <td>True</td>\n",
       "      <td>False</td>\n",
       "      <td>False</td>\n",
       "      <td>False</td>\n",
       "      <td>2022-03-19 13:29:00</td>\n",
       "      <td>450.0</td>\n",
       "      <td>2022-03-19 14:00:00</td>\n",
       "      <td>450.0</td>\n",
       "      <td>CCGT</td>\n",
       "    </tr>\n",
       "    <tr>\n",
       "      <th>T_PEMB-21</th>\n",
       "      <td>BOALF</td>\n",
       "      <td>88401</td>\n",
       "      <td>2022-03-19 12:01:00</td>\n",
       "      <td>False</td>\n",
       "      <td>True</td>\n",
       "      <td>False</td>\n",
       "      <td>False</td>\n",
       "      <td>False</td>\n",
       "      <td>2022-03-19 12:59:00</td>\n",
       "      <td>219.0</td>\n",
       "      <td>2022-03-19 13:30:00</td>\n",
       "      <td>219.0</td>\n",
       "      <td>CCGT</td>\n",
       "    </tr>\n",
       "    <tr>\n",
       "      <th>T_PEMB-21</th>\n",
       "      <td>BOALF</td>\n",
       "      <td>88402</td>\n",
       "      <td>2022-03-19 12:31:00</td>\n",
       "      <td>False</td>\n",
       "      <td>True</td>\n",
       "      <td>False</td>\n",
       "      <td>False</td>\n",
       "      <td>False</td>\n",
       "      <td>2022-03-19 13:29:00</td>\n",
       "      <td>219.0</td>\n",
       "      <td>2022-03-19 14:00:00</td>\n",
       "      <td>219.0</td>\n",
       "      <td>CCGT</td>\n",
       "    </tr>\n",
       "    <tr>\n",
       "      <th>T_WBURB-1</th>\n",
       "      <td>BOALF</td>\n",
       "      <td>112234</td>\n",
       "      <td>2022-03-19 12:08:00</td>\n",
       "      <td>False</td>\n",
       "      <td>True</td>\n",
       "      <td>False</td>\n",
       "      <td>False</td>\n",
       "      <td>False</td>\n",
       "      <td>2022-03-19 12:10:00</td>\n",
       "      <td>160.0</td>\n",
       "      <td>2022-03-19 13:10:00</td>\n",
       "      <td>160.0</td>\n",
       "      <td>CCGT</td>\n",
       "    </tr>\n",
       "    <tr>\n",
       "      <th>T_WBURB-1</th>\n",
       "      <td>BOALF</td>\n",
       "      <td>112234</td>\n",
       "      <td>2022-03-19 12:08:00</td>\n",
       "      <td>False</td>\n",
       "      <td>True</td>\n",
       "      <td>False</td>\n",
       "      <td>False</td>\n",
       "      <td>False</td>\n",
       "      <td>2022-03-19 13:10:00</td>\n",
       "      <td>160.0</td>\n",
       "      <td>2022-03-19 13:11:00</td>\n",
       "      <td>158.0</td>\n",
       "      <td>CCGT</td>\n",
       "    </tr>\n",
       "    <tr>\n",
       "      <th>T_WBURB-1</th>\n",
       "      <td>BOALF</td>\n",
       "      <td>112234</td>\n",
       "      <td>2022-03-19 12:08:00</td>\n",
       "      <td>False</td>\n",
       "      <td>True</td>\n",
       "      <td>False</td>\n",
       "      <td>False</td>\n",
       "      <td>False</td>\n",
       "      <td>2022-03-19 13:11:00</td>\n",
       "      <td>158.0</td>\n",
       "      <td>2022-03-19 13:22:00</td>\n",
       "      <td>30.0</td>\n",
       "      <td>CCGT</td>\n",
       "    </tr>\n",
       "    <tr>\n",
       "      <th>T_WBURB-1</th>\n",
       "      <td>BOALF</td>\n",
       "      <td>112234</td>\n",
       "      <td>2022-03-19 12:08:00</td>\n",
       "      <td>False</td>\n",
       "      <td>True</td>\n",
       "      <td>False</td>\n",
       "      <td>False</td>\n",
       "      <td>False</td>\n",
       "      <td>2022-03-19 13:22:00</td>\n",
       "      <td>30.0</td>\n",
       "      <td>2022-03-19 13:23:00</td>\n",
       "      <td>0.0</td>\n",
       "      <td>CCGT</td>\n",
       "    </tr>\n",
       "    <tr>\n",
       "      <th>T_WBURB-1</th>\n",
       "      <td>BOALF</td>\n",
       "      <td>112235</td>\n",
       "      <td>2022-03-19 12:44:00</td>\n",
       "      <td>False</td>\n",
       "      <td>True</td>\n",
       "      <td>False</td>\n",
       "      <td>False</td>\n",
       "      <td>False</td>\n",
       "      <td>2022-03-19 12:46:00</td>\n",
       "      <td>160.0</td>\n",
       "      <td>2022-03-19 13:46:00</td>\n",
       "      <td>160.0</td>\n",
       "      <td>CCGT</td>\n",
       "    </tr>\n",
       "    <tr>\n",
       "      <th>T_WBURB-1</th>\n",
       "      <td>BOALF</td>\n",
       "      <td>112236</td>\n",
       "      <td>2022-03-19 13:26:00</td>\n",
       "      <td>False</td>\n",
       "      <td>True</td>\n",
       "      <td>False</td>\n",
       "      <td>False</td>\n",
       "      <td>False</td>\n",
       "      <td>2022-03-19 13:28:00</td>\n",
       "      <td>160.0</td>\n",
       "      <td>2022-03-19 14:08:00</td>\n",
       "      <td>160.0</td>\n",
       "      <td>CCGT</td>\n",
       "    </tr>\n",
       "  </tbody>\n",
       "</table>\n",
       "</div>"
      ],
      "text/plain": [
       "          Notification Type  Accept ID         Accept Time  Deemed Flag  \\\n",
       "T_CARR-1              BOALF      79613 2022-03-19 12:09:00        False   \n",
       "T_CARR-1              BOALF      79614 2022-03-19 12:44:00        False   \n",
       "T_CARR-1              BOALF      79615 2022-03-19 13:26:00        False   \n",
       "T_EAAO-1              BOALF       4379 2022-03-19 12:46:00        False   \n",
       "T_EAAO-1              BOALF       4379 2022-03-19 12:46:00        False   \n",
       "T_EAAO-1              BOALF       4380 2022-03-19 13:04:00        False   \n",
       "T_LAGA-1              BOALF     133192 2022-03-19 12:00:00        False   \n",
       "T_LAGA-1              BOALF     133193 2022-03-19 12:32:00        False   \n",
       "T_MRWD-1              BOALF     144962 2022-03-19 12:01:00        False   \n",
       "T_MRWD-1              BOALF     144965 2022-03-19 12:32:00        False   \n",
       "T_PEMB-21             BOALF      88401 2022-03-19 12:01:00        False   \n",
       "T_PEMB-21             BOALF      88402 2022-03-19 12:31:00        False   \n",
       "T_WBURB-1             BOALF     112234 2022-03-19 12:08:00        False   \n",
       "T_WBURB-1             BOALF     112234 2022-03-19 12:08:00        False   \n",
       "T_WBURB-1             BOALF     112234 2022-03-19 12:08:00        False   \n",
       "T_WBURB-1             BOALF     112234 2022-03-19 12:08:00        False   \n",
       "T_WBURB-1             BOALF     112235 2022-03-19 12:44:00        False   \n",
       "T_WBURB-1             BOALF     112236 2022-03-19 13:26:00        False   \n",
       "\n",
       "           SO Flag  STOR Provider Flag  RR Instruction Flag  RR Schedule Flag  \\\n",
       "T_CARR-1      True               False                False             False   \n",
       "T_CARR-1      True               False                False             False   \n",
       "T_CARR-1      True               False                False             False   \n",
       "T_EAAO-1      True               False                False             False   \n",
       "T_EAAO-1      True               False                False             False   \n",
       "T_EAAO-1      True               False                False             False   \n",
       "T_LAGA-1      True               False                False             False   \n",
       "T_LAGA-1      True               False                False             False   \n",
       "T_MRWD-1      True               False                False             False   \n",
       "T_MRWD-1      True               False                False             False   \n",
       "T_PEMB-21     True               False                False             False   \n",
       "T_PEMB-21     True               False                False             False   \n",
       "T_WBURB-1     True               False                False             False   \n",
       "T_WBURB-1     True               False                False             False   \n",
       "T_WBURB-1     True               False                False             False   \n",
       "T_WBURB-1     True               False                False             False   \n",
       "T_WBURB-1     True               False                False             False   \n",
       "T_WBURB-1     True               False                False             False   \n",
       "\n",
       "                    From Time  From Level             To Time  To Level  \\\n",
       "T_CARR-1  2022-03-19 13:00:00       176.0 2022-03-19 13:30:00     176.0   \n",
       "T_CARR-1  2022-03-19 12:46:00       176.0 2022-03-19 13:46:00     176.0   \n",
       "T_CARR-1  2022-03-19 13:28:00       176.0 2022-03-19 14:13:00     176.0   \n",
       "T_EAAO-1  2022-03-19 12:49:00       230.0 2022-03-19 13:19:00     230.0   \n",
       "T_EAAO-1  2022-03-19 13:19:00       230.0 2022-03-19 13:22:00     336.0   \n",
       "T_EAAO-1  2022-03-19 13:19:00       230.0 2022-03-19 13:49:00     230.0   \n",
       "T_LAGA-1  2022-03-19 13:20:00         0.0 2022-03-19 13:30:00      17.0   \n",
       "T_LAGA-1  2022-03-19 13:29:00        16.0 2022-03-19 14:00:00      71.0   \n",
       "T_MRWD-1  2022-03-19 12:59:00       450.0 2022-03-19 13:30:00     450.0   \n",
       "T_MRWD-1  2022-03-19 13:29:00       450.0 2022-03-19 14:00:00     450.0   \n",
       "T_PEMB-21 2022-03-19 12:59:00       219.0 2022-03-19 13:30:00     219.0   \n",
       "T_PEMB-21 2022-03-19 13:29:00       219.0 2022-03-19 14:00:00     219.0   \n",
       "T_WBURB-1 2022-03-19 12:10:00       160.0 2022-03-19 13:10:00     160.0   \n",
       "T_WBURB-1 2022-03-19 13:10:00       160.0 2022-03-19 13:11:00     158.0   \n",
       "T_WBURB-1 2022-03-19 13:11:00       158.0 2022-03-19 13:22:00      30.0   \n",
       "T_WBURB-1 2022-03-19 13:22:00        30.0 2022-03-19 13:23:00       0.0   \n",
       "T_WBURB-1 2022-03-19 12:46:00       160.0 2022-03-19 13:46:00     160.0   \n",
       "T_WBURB-1 2022-03-19 13:28:00       160.0 2022-03-19 14:08:00     160.0   \n",
       "\n",
       "          Fuel Type  \n",
       "T_CARR-1       CCGT  \n",
       "T_CARR-1       CCGT  \n",
       "T_CARR-1       CCGT  \n",
       "T_EAAO-1       WIND  \n",
       "T_EAAO-1       WIND  \n",
       "T_EAAO-1       WIND  \n",
       "T_LAGA-1       CCGT  \n",
       "T_LAGA-1       CCGT  \n",
       "T_MRWD-1       CCGT  \n",
       "T_MRWD-1       CCGT  \n",
       "T_PEMB-21      CCGT  \n",
       "T_PEMB-21      CCGT  \n",
       "T_WBURB-1      CCGT  \n",
       "T_WBURB-1      CCGT  \n",
       "T_WBURB-1      CCGT  \n",
       "T_WBURB-1      CCGT  \n",
       "T_WBURB-1      CCGT  \n",
       "T_WBURB-1      CCGT  "
      ]
     },
     "execution_count": 139,
     "metadata": {},
     "output_type": "execute_result"
    }
   ],
   "source": [
    "df_boal[df_boal[\"SO Flag\"]]"
   ]
  },
  {
   "cell_type": "code",
   "execution_count": 140,
   "metadata": {},
   "outputs": [],
   "source": [
    "df_boal_wind = df_boal[df_boal[\"Fuel Type\"] == \"WIND\"]"
   ]
  },
  {
   "cell_type": "code",
   "execution_count": 141,
   "metadata": {},
   "outputs": [
    {
     "data": {
      "text/html": [
       "<div>\n",
       "<style scoped>\n",
       "    .dataframe tbody tr th:only-of-type {\n",
       "        vertical-align: middle;\n",
       "    }\n",
       "\n",
       "    .dataframe tbody tr th {\n",
       "        vertical-align: top;\n",
       "    }\n",
       "\n",
       "    .dataframe thead th {\n",
       "        text-align: right;\n",
       "    }\n",
       "</style>\n",
       "<table border=\"1\" class=\"dataframe\">\n",
       "  <thead>\n",
       "    <tr style=\"text-align: right;\">\n",
       "      <th></th>\n",
       "      <th>Notification Type</th>\n",
       "      <th>Accept ID</th>\n",
       "      <th>Accept Time</th>\n",
       "      <th>Deemed Flag</th>\n",
       "      <th>SO Flag</th>\n",
       "      <th>STOR Provider Flag</th>\n",
       "      <th>RR Instruction Flag</th>\n",
       "      <th>RR Schedule Flag</th>\n",
       "      <th>From Time</th>\n",
       "      <th>From Level</th>\n",
       "      <th>To Time</th>\n",
       "      <th>To Level</th>\n",
       "      <th>Fuel Type</th>\n",
       "    </tr>\n",
       "  </thead>\n",
       "  <tbody>\n",
       "    <tr>\n",
       "      <th>E_BTUIW-3</th>\n",
       "      <td>BOALF</td>\n",
       "      <td>3642</td>\n",
       "      <td>2022-03-19 12:35:00</td>\n",
       "      <td>False</td>\n",
       "      <td>False</td>\n",
       "      <td>False</td>\n",
       "      <td>False</td>\n",
       "      <td>False</td>\n",
       "      <td>2022-03-19 13:20:00</td>\n",
       "      <td>0.0</td>\n",
       "      <td>2022-03-19 13:22:00</td>\n",
       "      <td>43.0</td>\n",
       "      <td>WIND</td>\n",
       "    </tr>\n",
       "    <tr>\n",
       "      <th>E_BTUIW-3</th>\n",
       "      <td>BOALF</td>\n",
       "      <td>3643</td>\n",
       "      <td>2022-03-19 13:05:00</td>\n",
       "      <td>False</td>\n",
       "      <td>False</td>\n",
       "      <td>False</td>\n",
       "      <td>False</td>\n",
       "      <td>False</td>\n",
       "      <td>2022-03-19 13:20:00</td>\n",
       "      <td>0.0</td>\n",
       "      <td>2022-03-19 13:50:00</td>\n",
       "      <td>0.0</td>\n",
       "      <td>WIND</td>\n",
       "    </tr>\n",
       "    <tr>\n",
       "      <th>T_AKGLW-3</th>\n",
       "      <td>BOALF</td>\n",
       "      <td>2005</td>\n",
       "      <td>2022-03-19 12:26:00</td>\n",
       "      <td>False</td>\n",
       "      <td>False</td>\n",
       "      <td>False</td>\n",
       "      <td>False</td>\n",
       "      <td>False</td>\n",
       "      <td>2022-03-19 12:58:00</td>\n",
       "      <td>0.0</td>\n",
       "      <td>2022-03-19 13:03:00</td>\n",
       "      <td>48.0</td>\n",
       "      <td>WIND</td>\n",
       "    </tr>\n",
       "    <tr>\n",
       "      <th>T_AKGLW-3</th>\n",
       "      <td>BOALF</td>\n",
       "      <td>2006</td>\n",
       "      <td>2022-03-19 12:50:00</td>\n",
       "      <td>False</td>\n",
       "      <td>False</td>\n",
       "      <td>False</td>\n",
       "      <td>False</td>\n",
       "      <td>False</td>\n",
       "      <td>2022-03-19 12:52:00</td>\n",
       "      <td>0.0</td>\n",
       "      <td>2022-03-19 13:52:00</td>\n",
       "      <td>0.0</td>\n",
       "      <td>WIND</td>\n",
       "    </tr>\n",
       "    <tr>\n",
       "      <th>T_AKGLW-3</th>\n",
       "      <td>BOALF</td>\n",
       "      <td>2007</td>\n",
       "      <td>2022-03-19 13:02:00</td>\n",
       "      <td>False</td>\n",
       "      <td>False</td>\n",
       "      <td>False</td>\n",
       "      <td>False</td>\n",
       "      <td>False</td>\n",
       "      <td>2022-03-19 13:04:00</td>\n",
       "      <td>0.0</td>\n",
       "      <td>2022-03-19 14:19:00</td>\n",
       "      <td>0.0</td>\n",
       "      <td>WIND</td>\n",
       "    </tr>\n",
       "    <tr>\n",
       "      <th>...</th>\n",
       "      <td>...</td>\n",
       "      <td>...</td>\n",
       "      <td>...</td>\n",
       "      <td>...</td>\n",
       "      <td>...</td>\n",
       "      <td>...</td>\n",
       "      <td>...</td>\n",
       "      <td>...</td>\n",
       "      <td>...</td>\n",
       "      <td>...</td>\n",
       "      <td>...</td>\n",
       "      <td>...</td>\n",
       "      <td>...</td>\n",
       "    </tr>\n",
       "    <tr>\n",
       "      <th>T_WLNYO-3</th>\n",
       "      <td>BOALF</td>\n",
       "      <td>22300</td>\n",
       "      <td>2022-03-19 13:07:00</td>\n",
       "      <td>False</td>\n",
       "      <td>False</td>\n",
       "      <td>False</td>\n",
       "      <td>False</td>\n",
       "      <td>False</td>\n",
       "      <td>2022-03-19 13:17:00</td>\n",
       "      <td>0.0</td>\n",
       "      <td>2022-03-19 13:37:00</td>\n",
       "      <td>0.0</td>\n",
       "      <td>WIND</td>\n",
       "    </tr>\n",
       "    <tr>\n",
       "      <th>T_WLNYO-4</th>\n",
       "      <td>BOALF</td>\n",
       "      <td>23054</td>\n",
       "      <td>2022-03-19 12:30:00</td>\n",
       "      <td>False</td>\n",
       "      <td>False</td>\n",
       "      <td>False</td>\n",
       "      <td>False</td>\n",
       "      <td>False</td>\n",
       "      <td>2022-03-19 13:00:00</td>\n",
       "      <td>0.0</td>\n",
       "      <td>2022-03-19 13:06:00</td>\n",
       "      <td>253.0</td>\n",
       "      <td>WIND</td>\n",
       "    </tr>\n",
       "    <tr>\n",
       "      <th>T_WLNYO-4</th>\n",
       "      <td>BOALF</td>\n",
       "      <td>23055</td>\n",
       "      <td>2022-03-19 12:50:00</td>\n",
       "      <td>False</td>\n",
       "      <td>False</td>\n",
       "      <td>False</td>\n",
       "      <td>False</td>\n",
       "      <td>False</td>\n",
       "      <td>2022-03-19 13:00:00</td>\n",
       "      <td>0.0</td>\n",
       "      <td>2022-03-19 13:20:00</td>\n",
       "      <td>0.0</td>\n",
       "      <td>WIND</td>\n",
       "    </tr>\n",
       "    <tr>\n",
       "      <th>T_WLNYO-4</th>\n",
       "      <td>BOALF</td>\n",
       "      <td>23055</td>\n",
       "      <td>2022-03-19 12:50:00</td>\n",
       "      <td>False</td>\n",
       "      <td>False</td>\n",
       "      <td>False</td>\n",
       "      <td>False</td>\n",
       "      <td>False</td>\n",
       "      <td>2022-03-19 13:20:00</td>\n",
       "      <td>0.0</td>\n",
       "      <td>2022-03-19 13:26:00</td>\n",
       "      <td>262.0</td>\n",
       "      <td>WIND</td>\n",
       "    </tr>\n",
       "    <tr>\n",
       "      <th>T_WLNYO-4</th>\n",
       "      <td>BOALF</td>\n",
       "      <td>23056</td>\n",
       "      <td>2022-03-19 13:10:00</td>\n",
       "      <td>False</td>\n",
       "      <td>False</td>\n",
       "      <td>False</td>\n",
       "      <td>False</td>\n",
       "      <td>False</td>\n",
       "      <td>2022-03-19 13:20:00</td>\n",
       "      <td>0.0</td>\n",
       "      <td>2022-03-19 13:40:00</td>\n",
       "      <td>0.0</td>\n",
       "      <td>WIND</td>\n",
       "    </tr>\n",
       "  </tbody>\n",
       "</table>\n",
       "<p>100 rows × 13 columns</p>\n",
       "</div>"
      ],
      "text/plain": [
       "          Notification Type  Accept ID         Accept Time  Deemed Flag  \\\n",
       "E_BTUIW-3             BOALF       3642 2022-03-19 12:35:00        False   \n",
       "E_BTUIW-3             BOALF       3643 2022-03-19 13:05:00        False   \n",
       "T_AKGLW-3             BOALF       2005 2022-03-19 12:26:00        False   \n",
       "T_AKGLW-3             BOALF       2006 2022-03-19 12:50:00        False   \n",
       "T_AKGLW-3             BOALF       2007 2022-03-19 13:02:00        False   \n",
       "...                     ...        ...                 ...          ...   \n",
       "T_WLNYO-3             BOALF      22300 2022-03-19 13:07:00        False   \n",
       "T_WLNYO-4             BOALF      23054 2022-03-19 12:30:00        False   \n",
       "T_WLNYO-4             BOALF      23055 2022-03-19 12:50:00        False   \n",
       "T_WLNYO-4             BOALF      23055 2022-03-19 12:50:00        False   \n",
       "T_WLNYO-4             BOALF      23056 2022-03-19 13:10:00        False   \n",
       "\n",
       "           SO Flag  STOR Provider Flag  RR Instruction Flag  RR Schedule Flag  \\\n",
       "E_BTUIW-3    False               False                False             False   \n",
       "E_BTUIW-3    False               False                False             False   \n",
       "T_AKGLW-3    False               False                False             False   \n",
       "T_AKGLW-3    False               False                False             False   \n",
       "T_AKGLW-3    False               False                False             False   \n",
       "...            ...                 ...                  ...               ...   \n",
       "T_WLNYO-3    False               False                False             False   \n",
       "T_WLNYO-4    False               False                False             False   \n",
       "T_WLNYO-4    False               False                False             False   \n",
       "T_WLNYO-4    False               False                False             False   \n",
       "T_WLNYO-4    False               False                False             False   \n",
       "\n",
       "                    From Time  From Level             To Time  To Level  \\\n",
       "E_BTUIW-3 2022-03-19 13:20:00         0.0 2022-03-19 13:22:00      43.0   \n",
       "E_BTUIW-3 2022-03-19 13:20:00         0.0 2022-03-19 13:50:00       0.0   \n",
       "T_AKGLW-3 2022-03-19 12:58:00         0.0 2022-03-19 13:03:00      48.0   \n",
       "T_AKGLW-3 2022-03-19 12:52:00         0.0 2022-03-19 13:52:00       0.0   \n",
       "T_AKGLW-3 2022-03-19 13:04:00         0.0 2022-03-19 14:19:00       0.0   \n",
       "...                       ...         ...                 ...       ...   \n",
       "T_WLNYO-3 2022-03-19 13:17:00         0.0 2022-03-19 13:37:00       0.0   \n",
       "T_WLNYO-4 2022-03-19 13:00:00         0.0 2022-03-19 13:06:00     253.0   \n",
       "T_WLNYO-4 2022-03-19 13:00:00         0.0 2022-03-19 13:20:00       0.0   \n",
       "T_WLNYO-4 2022-03-19 13:20:00         0.0 2022-03-19 13:26:00     262.0   \n",
       "T_WLNYO-4 2022-03-19 13:20:00         0.0 2022-03-19 13:40:00       0.0   \n",
       "\n",
       "          Fuel Type  \n",
       "E_BTUIW-3      WIND  \n",
       "E_BTUIW-3      WIND  \n",
       "T_AKGLW-3      WIND  \n",
       "T_AKGLW-3      WIND  \n",
       "T_AKGLW-3      WIND  \n",
       "...             ...  \n",
       "T_WLNYO-3      WIND  \n",
       "T_WLNYO-4      WIND  \n",
       "T_WLNYO-4      WIND  \n",
       "T_WLNYO-4      WIND  \n",
       "T_WLNYO-4      WIND  \n",
       "\n",
       "[100 rows x 13 columns]"
      ]
     },
     "execution_count": 141,
     "metadata": {},
     "output_type": "execute_result"
    }
   ],
   "source": [
    "df_boal_wind"
   ]
  },
  {
   "cell_type": "markdown",
   "metadata": {},
   "source": [
    "Curtailment is if the BOALF level is less than the FPN"
   ]
  },
  {
   "cell_type": "code",
   "execution_count": 142,
   "metadata": {},
   "outputs": [
    {
     "data": {
      "text/html": [
       "<div>\n",
       "<style scoped>\n",
       "    .dataframe tbody tr th:only-of-type {\n",
       "        vertical-align: middle;\n",
       "    }\n",
       "\n",
       "    .dataframe tbody tr th {\n",
       "        vertical-align: top;\n",
       "    }\n",
       "\n",
       "    .dataframe thead th {\n",
       "        text-align: right;\n",
       "    }\n",
       "</style>\n",
       "<table border=\"1\" class=\"dataframe\">\n",
       "  <thead>\n",
       "    <tr style=\"text-align: right;\">\n",
       "      <th></th>\n",
       "      <th>Notification Type</th>\n",
       "      <th>Accept ID</th>\n",
       "      <th>Accept Time</th>\n",
       "      <th>Deemed Flag</th>\n",
       "      <th>SO Flag</th>\n",
       "      <th>STOR Provider Flag</th>\n",
       "      <th>RR Instruction Flag</th>\n",
       "      <th>RR Schedule Flag</th>\n",
       "      <th>From Time</th>\n",
       "      <th>From Level</th>\n",
       "      <th>To Time</th>\n",
       "      <th>To Level</th>\n",
       "      <th>Fuel Type</th>\n",
       "    </tr>\n",
       "  </thead>\n",
       "  <tbody>\n",
       "    <tr>\n",
       "      <th>T_EAAO-1</th>\n",
       "      <td>BOALF</td>\n",
       "      <td>4379</td>\n",
       "      <td>2022-03-19 12:46:00</td>\n",
       "      <td>False</td>\n",
       "      <td>True</td>\n",
       "      <td>False</td>\n",
       "      <td>False</td>\n",
       "      <td>False</td>\n",
       "      <td>2022-03-19 12:49:00</td>\n",
       "      <td>230.0</td>\n",
       "      <td>2022-03-19 13:19:00</td>\n",
       "      <td>230.0</td>\n",
       "      <td>WIND</td>\n",
       "    </tr>\n",
       "    <tr>\n",
       "      <th>T_EAAO-1</th>\n",
       "      <td>BOALF</td>\n",
       "      <td>4379</td>\n",
       "      <td>2022-03-19 12:46:00</td>\n",
       "      <td>False</td>\n",
       "      <td>True</td>\n",
       "      <td>False</td>\n",
       "      <td>False</td>\n",
       "      <td>False</td>\n",
       "      <td>2022-03-19 13:19:00</td>\n",
       "      <td>230.0</td>\n",
       "      <td>2022-03-19 13:22:00</td>\n",
       "      <td>336.0</td>\n",
       "      <td>WIND</td>\n",
       "    </tr>\n",
       "    <tr>\n",
       "      <th>T_EAAO-1</th>\n",
       "      <td>BOALF</td>\n",
       "      <td>4380</td>\n",
       "      <td>2022-03-19 13:04:00</td>\n",
       "      <td>False</td>\n",
       "      <td>True</td>\n",
       "      <td>False</td>\n",
       "      <td>False</td>\n",
       "      <td>False</td>\n",
       "      <td>2022-03-19 13:19:00</td>\n",
       "      <td>230.0</td>\n",
       "      <td>2022-03-19 13:49:00</td>\n",
       "      <td>230.0</td>\n",
       "      <td>WIND</td>\n",
       "    </tr>\n",
       "    <tr>\n",
       "      <th>T_EAAO-1</th>\n",
       "      <td>BOALF</td>\n",
       "      <td>4381</td>\n",
       "      <td>2022-03-19 13:19:00</td>\n",
       "      <td>False</td>\n",
       "      <td>False</td>\n",
       "      <td>False</td>\n",
       "      <td>False</td>\n",
       "      <td>False</td>\n",
       "      <td>2022-03-19 13:21:00</td>\n",
       "      <td>230.0</td>\n",
       "      <td>2022-03-19 13:22:00</td>\n",
       "      <td>220.0</td>\n",
       "      <td>WIND</td>\n",
       "    </tr>\n",
       "    <tr>\n",
       "      <th>T_EAAO-1</th>\n",
       "      <td>BOALF</td>\n",
       "      <td>4381</td>\n",
       "      <td>2022-03-19 13:19:00</td>\n",
       "      <td>False</td>\n",
       "      <td>False</td>\n",
       "      <td>False</td>\n",
       "      <td>False</td>\n",
       "      <td>False</td>\n",
       "      <td>2022-03-19 13:22:00</td>\n",
       "      <td>220.0</td>\n",
       "      <td>2022-03-19 13:52:00</td>\n",
       "      <td>220.0</td>\n",
       "      <td>WIND</td>\n",
       "    </tr>\n",
       "  </tbody>\n",
       "</table>\n",
       "</div>"
      ],
      "text/plain": [
       "         Notification Type  Accept ID         Accept Time  Deemed Flag  \\\n",
       "T_EAAO-1             BOALF       4379 2022-03-19 12:46:00        False   \n",
       "T_EAAO-1             BOALF       4379 2022-03-19 12:46:00        False   \n",
       "T_EAAO-1             BOALF       4380 2022-03-19 13:04:00        False   \n",
       "T_EAAO-1             BOALF       4381 2022-03-19 13:19:00        False   \n",
       "T_EAAO-1             BOALF       4381 2022-03-19 13:19:00        False   \n",
       "\n",
       "          SO Flag  STOR Provider Flag  RR Instruction Flag  RR Schedule Flag  \\\n",
       "T_EAAO-1     True               False                False             False   \n",
       "T_EAAO-1     True               False                False             False   \n",
       "T_EAAO-1     True               False                False             False   \n",
       "T_EAAO-1    False               False                False             False   \n",
       "T_EAAO-1    False               False                False             False   \n",
       "\n",
       "                   From Time  From Level             To Time  To Level  \\\n",
       "T_EAAO-1 2022-03-19 12:49:00       230.0 2022-03-19 13:19:00     230.0   \n",
       "T_EAAO-1 2022-03-19 13:19:00       230.0 2022-03-19 13:22:00     336.0   \n",
       "T_EAAO-1 2022-03-19 13:19:00       230.0 2022-03-19 13:49:00     230.0   \n",
       "T_EAAO-1 2022-03-19 13:21:00       230.0 2022-03-19 13:22:00     220.0   \n",
       "T_EAAO-1 2022-03-19 13:22:00       220.0 2022-03-19 13:52:00     220.0   \n",
       "\n",
       "         Fuel Type  \n",
       "T_EAAO-1      WIND  \n",
       "T_EAAO-1      WIND  \n",
       "T_EAAO-1      WIND  \n",
       "T_EAAO-1      WIND  \n",
       "T_EAAO-1      WIND  "
      ]
     },
     "execution_count": 142,
     "metadata": {},
     "output_type": "execute_result"
    }
   ],
   "source": [
    "unit = \"T_EAAO-1\"\n",
    "df_boal_wind.loc[unit]"
   ]
  },
  {
   "cell_type": "code",
   "execution_count": 143,
   "metadata": {},
   "outputs": [
    {
     "data": {
      "text/plain": [
       "Notification Type                     PN\n",
       "Settlement Period                     27\n",
       "From Time            2022-03-19 13:00:00\n",
       "From Level                           336\n",
       "To Time              2022-03-19 13:30:00\n",
       "To Level                             336\n",
       "Fuel Type                           WIND\n",
       "Name: T_EAAO-1, dtype: object"
      ]
     },
     "execution_count": 143,
     "metadata": {},
     "output_type": "execute_result"
    }
   ],
   "source": [
    "df_fpn.loc[unit]"
   ]
  },
  {
   "cell_type": "markdown",
   "metadata": {},
   "source": [
    "This is a curtailed unit! "
   ]
  },
  {
   "cell_type": "code",
   "execution_count": 179,
   "metadata": {},
   "outputs": [],
   "source": [
    "def linearize_physical_data(df: pd.DataFrame):\n",
    "\n",
    "    from_columns = [\"From Level\", \"From Time\"]\n",
    "    to_columns = [\"To Level\", \"To Time\"]\n",
    "\n",
    "    base_columns = [x for x in df.columns.copy() if x not in from_columns + to_columns]\n",
    "\n",
    "    df = pd.concat(\n",
    "        (\n",
    "            df[base_columns + from_columns].rename(\n",
    "                columns={\"From Level\": \"Level\", \"From Time\": \"Time\"}\n",
    "            ),\n",
    "            df[base_columns + to_columns].rename(\n",
    "                columns={\"To Level\": \"Level\", \"To Time\": \"Time\"}\n",
    "            ),\n",
    "        )\n",
    "    )\n",
    "\n",
    "    df['Level'] = df['Level'].astype(float)\n",
    "    return df"
   ]
  },
  {
   "cell_type": "code",
   "execution_count": 145,
   "metadata": {},
   "outputs": [
    {
     "data": {
      "application/vnd.plotly.v1+json": {
       "config": {
        "plotlyServerURL": "https://plot.ly"
       },
       "data": [
        {
         "hovertemplate": "Accept Time str=2022-03-19 12:46:00<br>Time=%{x}<br>Level=%{y}<extra></extra>",
         "legendgroup": "2022-03-19 12:46:00",
         "line": {
          "color": "#636efa",
          "dash": "solid"
         },
         "marker": {
          "symbol": "circle"
         },
         "mode": "lines",
         "name": "2022-03-19 12:46:00",
         "orientation": "v",
         "showlegend": true,
         "type": "scatter",
         "x": [
          "2022-03-19T12:49:00",
          "2022-03-19T13:19:00",
          "2022-03-19T13:19:00",
          "2022-03-19T13:22:00"
         ],
         "xaxis": "x",
         "y": [
          230,
          230,
          230,
          336
         ],
         "yaxis": "y"
        },
        {
         "hovertemplate": "Accept Time str=2022-03-19 13:04:00<br>Time=%{x}<br>Level=%{y}<extra></extra>",
         "legendgroup": "2022-03-19 13:04:00",
         "line": {
          "color": "#EF553B",
          "dash": "solid"
         },
         "marker": {
          "symbol": "circle"
         },
         "mode": "lines",
         "name": "2022-03-19 13:04:00",
         "orientation": "v",
         "showlegend": true,
         "type": "scatter",
         "x": [
          "2022-03-19T13:19:00",
          "2022-03-19T13:49:00"
         ],
         "xaxis": "x",
         "y": [
          230,
          230
         ],
         "yaxis": "y"
        },
        {
         "hovertemplate": "Accept Time str=2022-03-19 13:19:00<br>Time=%{x}<br>Level=%{y}<extra></extra>",
         "legendgroup": "2022-03-19 13:19:00",
         "line": {
          "color": "#00cc96",
          "dash": "solid"
         },
         "marker": {
          "symbol": "circle"
         },
         "mode": "lines",
         "name": "2022-03-19 13:19:00",
         "orientation": "v",
         "showlegend": true,
         "type": "scatter",
         "x": [
          "2022-03-19T13:21:00",
          "2022-03-19T13:22:00",
          "2022-03-19T13:22:00",
          "2022-03-19T13:52:00"
         ],
         "xaxis": "x",
         "y": [
          230,
          220,
          220,
          220
         ],
         "yaxis": "y"
        }
       ],
       "layout": {
        "legend": {
         "title": {
          "text": "Accept Time str"
         },
         "tracegroupgap": 0
        },
        "margin": {
         "t": 60
        },
        "template": {
         "data": {
          "bar": [
           {
            "error_x": {
             "color": "#2a3f5f"
            },
            "error_y": {
             "color": "#2a3f5f"
            },
            "marker": {
             "line": {
              "color": "#E5ECF6",
              "width": 0.5
             },
             "pattern": {
              "fillmode": "overlay",
              "size": 10,
              "solidity": 0.2
             }
            },
            "type": "bar"
           }
          ],
          "barpolar": [
           {
            "marker": {
             "line": {
              "color": "#E5ECF6",
              "width": 0.5
             },
             "pattern": {
              "fillmode": "overlay",
              "size": 10,
              "solidity": 0.2
             }
            },
            "type": "barpolar"
           }
          ],
          "carpet": [
           {
            "aaxis": {
             "endlinecolor": "#2a3f5f",
             "gridcolor": "white",
             "linecolor": "white",
             "minorgridcolor": "white",
             "startlinecolor": "#2a3f5f"
            },
            "baxis": {
             "endlinecolor": "#2a3f5f",
             "gridcolor": "white",
             "linecolor": "white",
             "minorgridcolor": "white",
             "startlinecolor": "#2a3f5f"
            },
            "type": "carpet"
           }
          ],
          "choropleth": [
           {
            "colorbar": {
             "outlinewidth": 0,
             "ticks": ""
            },
            "type": "choropleth"
           }
          ],
          "contour": [
           {
            "colorbar": {
             "outlinewidth": 0,
             "ticks": ""
            },
            "colorscale": [
             [
              0,
              "#0d0887"
             ],
             [
              0.1111111111111111,
              "#46039f"
             ],
             [
              0.2222222222222222,
              "#7201a8"
             ],
             [
              0.3333333333333333,
              "#9c179e"
             ],
             [
              0.4444444444444444,
              "#bd3786"
             ],
             [
              0.5555555555555556,
              "#d8576b"
             ],
             [
              0.6666666666666666,
              "#ed7953"
             ],
             [
              0.7777777777777778,
              "#fb9f3a"
             ],
             [
              0.8888888888888888,
              "#fdca26"
             ],
             [
              1,
              "#f0f921"
             ]
            ],
            "type": "contour"
           }
          ],
          "contourcarpet": [
           {
            "colorbar": {
             "outlinewidth": 0,
             "ticks": ""
            },
            "type": "contourcarpet"
           }
          ],
          "heatmap": [
           {
            "colorbar": {
             "outlinewidth": 0,
             "ticks": ""
            },
            "colorscale": [
             [
              0,
              "#0d0887"
             ],
             [
              0.1111111111111111,
              "#46039f"
             ],
             [
              0.2222222222222222,
              "#7201a8"
             ],
             [
              0.3333333333333333,
              "#9c179e"
             ],
             [
              0.4444444444444444,
              "#bd3786"
             ],
             [
              0.5555555555555556,
              "#d8576b"
             ],
             [
              0.6666666666666666,
              "#ed7953"
             ],
             [
              0.7777777777777778,
              "#fb9f3a"
             ],
             [
              0.8888888888888888,
              "#fdca26"
             ],
             [
              1,
              "#f0f921"
             ]
            ],
            "type": "heatmap"
           }
          ],
          "heatmapgl": [
           {
            "colorbar": {
             "outlinewidth": 0,
             "ticks": ""
            },
            "colorscale": [
             [
              0,
              "#0d0887"
             ],
             [
              0.1111111111111111,
              "#46039f"
             ],
             [
              0.2222222222222222,
              "#7201a8"
             ],
             [
              0.3333333333333333,
              "#9c179e"
             ],
             [
              0.4444444444444444,
              "#bd3786"
             ],
             [
              0.5555555555555556,
              "#d8576b"
             ],
             [
              0.6666666666666666,
              "#ed7953"
             ],
             [
              0.7777777777777778,
              "#fb9f3a"
             ],
             [
              0.8888888888888888,
              "#fdca26"
             ],
             [
              1,
              "#f0f921"
             ]
            ],
            "type": "heatmapgl"
           }
          ],
          "histogram": [
           {
            "marker": {
             "pattern": {
              "fillmode": "overlay",
              "size": 10,
              "solidity": 0.2
             }
            },
            "type": "histogram"
           }
          ],
          "histogram2d": [
           {
            "colorbar": {
             "outlinewidth": 0,
             "ticks": ""
            },
            "colorscale": [
             [
              0,
              "#0d0887"
             ],
             [
              0.1111111111111111,
              "#46039f"
             ],
             [
              0.2222222222222222,
              "#7201a8"
             ],
             [
              0.3333333333333333,
              "#9c179e"
             ],
             [
              0.4444444444444444,
              "#bd3786"
             ],
             [
              0.5555555555555556,
              "#d8576b"
             ],
             [
              0.6666666666666666,
              "#ed7953"
             ],
             [
              0.7777777777777778,
              "#fb9f3a"
             ],
             [
              0.8888888888888888,
              "#fdca26"
             ],
             [
              1,
              "#f0f921"
             ]
            ],
            "type": "histogram2d"
           }
          ],
          "histogram2dcontour": [
           {
            "colorbar": {
             "outlinewidth": 0,
             "ticks": ""
            },
            "colorscale": [
             [
              0,
              "#0d0887"
             ],
             [
              0.1111111111111111,
              "#46039f"
             ],
             [
              0.2222222222222222,
              "#7201a8"
             ],
             [
              0.3333333333333333,
              "#9c179e"
             ],
             [
              0.4444444444444444,
              "#bd3786"
             ],
             [
              0.5555555555555556,
              "#d8576b"
             ],
             [
              0.6666666666666666,
              "#ed7953"
             ],
             [
              0.7777777777777778,
              "#fb9f3a"
             ],
             [
              0.8888888888888888,
              "#fdca26"
             ],
             [
              1,
              "#f0f921"
             ]
            ],
            "type": "histogram2dcontour"
           }
          ],
          "mesh3d": [
           {
            "colorbar": {
             "outlinewidth": 0,
             "ticks": ""
            },
            "type": "mesh3d"
           }
          ],
          "parcoords": [
           {
            "line": {
             "colorbar": {
              "outlinewidth": 0,
              "ticks": ""
             }
            },
            "type": "parcoords"
           }
          ],
          "pie": [
           {
            "automargin": true,
            "type": "pie"
           }
          ],
          "scatter": [
           {
            "fillpattern": {
             "fillmode": "overlay",
             "size": 10,
             "solidity": 0.2
            },
            "type": "scatter"
           }
          ],
          "scatter3d": [
           {
            "line": {
             "colorbar": {
              "outlinewidth": 0,
              "ticks": ""
             }
            },
            "marker": {
             "colorbar": {
              "outlinewidth": 0,
              "ticks": ""
             }
            },
            "type": "scatter3d"
           }
          ],
          "scattercarpet": [
           {
            "marker": {
             "colorbar": {
              "outlinewidth": 0,
              "ticks": ""
             }
            },
            "type": "scattercarpet"
           }
          ],
          "scattergeo": [
           {
            "marker": {
             "colorbar": {
              "outlinewidth": 0,
              "ticks": ""
             }
            },
            "type": "scattergeo"
           }
          ],
          "scattergl": [
           {
            "marker": {
             "colorbar": {
              "outlinewidth": 0,
              "ticks": ""
             }
            },
            "type": "scattergl"
           }
          ],
          "scattermapbox": [
           {
            "marker": {
             "colorbar": {
              "outlinewidth": 0,
              "ticks": ""
             }
            },
            "type": "scattermapbox"
           }
          ],
          "scatterpolar": [
           {
            "marker": {
             "colorbar": {
              "outlinewidth": 0,
              "ticks": ""
             }
            },
            "type": "scatterpolar"
           }
          ],
          "scatterpolargl": [
           {
            "marker": {
             "colorbar": {
              "outlinewidth": 0,
              "ticks": ""
             }
            },
            "type": "scatterpolargl"
           }
          ],
          "scatterternary": [
           {
            "marker": {
             "colorbar": {
              "outlinewidth": 0,
              "ticks": ""
             }
            },
            "type": "scatterternary"
           }
          ],
          "surface": [
           {
            "colorbar": {
             "outlinewidth": 0,
             "ticks": ""
            },
            "colorscale": [
             [
              0,
              "#0d0887"
             ],
             [
              0.1111111111111111,
              "#46039f"
             ],
             [
              0.2222222222222222,
              "#7201a8"
             ],
             [
              0.3333333333333333,
              "#9c179e"
             ],
             [
              0.4444444444444444,
              "#bd3786"
             ],
             [
              0.5555555555555556,
              "#d8576b"
             ],
             [
              0.6666666666666666,
              "#ed7953"
             ],
             [
              0.7777777777777778,
              "#fb9f3a"
             ],
             [
              0.8888888888888888,
              "#fdca26"
             ],
             [
              1,
              "#f0f921"
             ]
            ],
            "type": "surface"
           }
          ],
          "table": [
           {
            "cells": {
             "fill": {
              "color": "#EBF0F8"
             },
             "line": {
              "color": "white"
             }
            },
            "header": {
             "fill": {
              "color": "#C8D4E3"
             },
             "line": {
              "color": "white"
             }
            },
            "type": "table"
           }
          ]
         },
         "layout": {
          "annotationdefaults": {
           "arrowcolor": "#2a3f5f",
           "arrowhead": 0,
           "arrowwidth": 1
          },
          "autotypenumbers": "strict",
          "coloraxis": {
           "colorbar": {
            "outlinewidth": 0,
            "ticks": ""
           }
          },
          "colorscale": {
           "diverging": [
            [
             0,
             "#8e0152"
            ],
            [
             0.1,
             "#c51b7d"
            ],
            [
             0.2,
             "#de77ae"
            ],
            [
             0.3,
             "#f1b6da"
            ],
            [
             0.4,
             "#fde0ef"
            ],
            [
             0.5,
             "#f7f7f7"
            ],
            [
             0.6,
             "#e6f5d0"
            ],
            [
             0.7,
             "#b8e186"
            ],
            [
             0.8,
             "#7fbc41"
            ],
            [
             0.9,
             "#4d9221"
            ],
            [
             1,
             "#276419"
            ]
           ],
           "sequential": [
            [
             0,
             "#0d0887"
            ],
            [
             0.1111111111111111,
             "#46039f"
            ],
            [
             0.2222222222222222,
             "#7201a8"
            ],
            [
             0.3333333333333333,
             "#9c179e"
            ],
            [
             0.4444444444444444,
             "#bd3786"
            ],
            [
             0.5555555555555556,
             "#d8576b"
            ],
            [
             0.6666666666666666,
             "#ed7953"
            ],
            [
             0.7777777777777778,
             "#fb9f3a"
            ],
            [
             0.8888888888888888,
             "#fdca26"
            ],
            [
             1,
             "#f0f921"
            ]
           ],
           "sequentialminus": [
            [
             0,
             "#0d0887"
            ],
            [
             0.1111111111111111,
             "#46039f"
            ],
            [
             0.2222222222222222,
             "#7201a8"
            ],
            [
             0.3333333333333333,
             "#9c179e"
            ],
            [
             0.4444444444444444,
             "#bd3786"
            ],
            [
             0.5555555555555556,
             "#d8576b"
            ],
            [
             0.6666666666666666,
             "#ed7953"
            ],
            [
             0.7777777777777778,
             "#fb9f3a"
            ],
            [
             0.8888888888888888,
             "#fdca26"
            ],
            [
             1,
             "#f0f921"
            ]
           ]
          },
          "colorway": [
           "#636efa",
           "#EF553B",
           "#00cc96",
           "#ab63fa",
           "#FFA15A",
           "#19d3f3",
           "#FF6692",
           "#B6E880",
           "#FF97FF",
           "#FECB52"
          ],
          "font": {
           "color": "#2a3f5f"
          },
          "geo": {
           "bgcolor": "white",
           "lakecolor": "white",
           "landcolor": "#E5ECF6",
           "showlakes": true,
           "showland": true,
           "subunitcolor": "white"
          },
          "hoverlabel": {
           "align": "left"
          },
          "hovermode": "closest",
          "mapbox": {
           "style": "light"
          },
          "paper_bgcolor": "white",
          "plot_bgcolor": "#E5ECF6",
          "polar": {
           "angularaxis": {
            "gridcolor": "white",
            "linecolor": "white",
            "ticks": ""
           },
           "bgcolor": "#E5ECF6",
           "radialaxis": {
            "gridcolor": "white",
            "linecolor": "white",
            "ticks": ""
           }
          },
          "scene": {
           "xaxis": {
            "backgroundcolor": "#E5ECF6",
            "gridcolor": "white",
            "gridwidth": 2,
            "linecolor": "white",
            "showbackground": true,
            "ticks": "",
            "zerolinecolor": "white"
           },
           "yaxis": {
            "backgroundcolor": "#E5ECF6",
            "gridcolor": "white",
            "gridwidth": 2,
            "linecolor": "white",
            "showbackground": true,
            "ticks": "",
            "zerolinecolor": "white"
           },
           "zaxis": {
            "backgroundcolor": "#E5ECF6",
            "gridcolor": "white",
            "gridwidth": 2,
            "linecolor": "white",
            "showbackground": true,
            "ticks": "",
            "zerolinecolor": "white"
           }
          },
          "shapedefaults": {
           "line": {
            "color": "#2a3f5f"
           }
          },
          "ternary": {
           "aaxis": {
            "gridcolor": "white",
            "linecolor": "white",
            "ticks": ""
           },
           "baxis": {
            "gridcolor": "white",
            "linecolor": "white",
            "ticks": ""
           },
           "bgcolor": "#E5ECF6",
           "caxis": {
            "gridcolor": "white",
            "linecolor": "white",
            "ticks": ""
           }
          },
          "title": {
           "x": 0.05
          },
          "xaxis": {
           "automargin": true,
           "gridcolor": "white",
           "linecolor": "white",
           "ticks": "",
           "title": {
            "standoff": 15
           },
           "zerolinecolor": "white",
           "zerolinewidth": 2
          },
          "yaxis": {
           "automargin": true,
           "gridcolor": "white",
           "linecolor": "white",
           "ticks": "",
           "title": {
            "standoff": 15
           },
           "zerolinecolor": "white",
           "zerolinewidth": 2
          }
         }
        },
        "xaxis": {
         "anchor": "y",
         "domain": [
          0,
          1
         ],
         "title": {
          "text": "Time"
         }
        },
        "yaxis": {
         "anchor": "x",
         "domain": [
          0,
          1
         ],
         "title": {
          "text": "Level"
         }
        }
       }
      }
     },
     "metadata": {},
     "output_type": "display_data"
    }
   ],
   "source": [
    "df_boal_linear = linearize_physical_data(df_boal.loc[unit])\n",
    "df_boal_linear[\"Accept Time str\"] = df_boal_linear[\"Accept Time\"].astype(str)\n",
    "\n",
    "px.line(df_boal_linear, \"Time\", \"Level\", color=\"Accept Time str\")"
   ]
  },
  {
   "cell_type": "markdown",
   "metadata": {},
   "source": [
    "Complexity here: the offers change over time, so I think you need to take the level indicated by the latest bid offer at every time pointm"
   ]
  },
  {
   "cell_type": "code",
   "execution_count": 146,
   "metadata": {},
   "outputs": [
    {
     "data": {
      "text/html": [
       "<div>\n",
       "<style scoped>\n",
       "    .dataframe tbody tr th:only-of-type {\n",
       "        vertical-align: middle;\n",
       "    }\n",
       "\n",
       "    .dataframe tbody tr th {\n",
       "        vertical-align: top;\n",
       "    }\n",
       "\n",
       "    .dataframe thead th {\n",
       "        text-align: right;\n",
       "    }\n",
       "</style>\n",
       "<table border=\"1\" class=\"dataframe\">\n",
       "  <thead>\n",
       "    <tr style=\"text-align: right;\">\n",
       "      <th></th>\n",
       "      <th>Notification Type</th>\n",
       "      <th>Accept ID</th>\n",
       "      <th>Accept Time</th>\n",
       "      <th>Deemed Flag</th>\n",
       "      <th>SO Flag</th>\n",
       "      <th>STOR Provider Flag</th>\n",
       "      <th>RR Instruction Flag</th>\n",
       "      <th>RR Schedule Flag</th>\n",
       "      <th>Fuel Type</th>\n",
       "      <th>Level</th>\n",
       "      <th>Time</th>\n",
       "      <th>Accept Time str</th>\n",
       "    </tr>\n",
       "  </thead>\n",
       "  <tbody>\n",
       "    <tr>\n",
       "      <th>T_EAAO-1</th>\n",
       "      <td>BOALF</td>\n",
       "      <td>4379</td>\n",
       "      <td>2022-03-19 12:46:00</td>\n",
       "      <td>False</td>\n",
       "      <td>True</td>\n",
       "      <td>False</td>\n",
       "      <td>False</td>\n",
       "      <td>False</td>\n",
       "      <td>WIND</td>\n",
       "      <td>230.0</td>\n",
       "      <td>2022-03-19 12:49:00</td>\n",
       "      <td>2022-03-19 12:46:00</td>\n",
       "    </tr>\n",
       "    <tr>\n",
       "      <th>T_EAAO-1</th>\n",
       "      <td>BOALF</td>\n",
       "      <td>4379</td>\n",
       "      <td>2022-03-19 12:46:00</td>\n",
       "      <td>False</td>\n",
       "      <td>True</td>\n",
       "      <td>False</td>\n",
       "      <td>False</td>\n",
       "      <td>False</td>\n",
       "      <td>WIND</td>\n",
       "      <td>230.0</td>\n",
       "      <td>2022-03-19 13:19:00</td>\n",
       "      <td>2022-03-19 12:46:00</td>\n",
       "    </tr>\n",
       "    <tr>\n",
       "      <th>T_EAAO-1</th>\n",
       "      <td>BOALF</td>\n",
       "      <td>4380</td>\n",
       "      <td>2022-03-19 13:04:00</td>\n",
       "      <td>False</td>\n",
       "      <td>True</td>\n",
       "      <td>False</td>\n",
       "      <td>False</td>\n",
       "      <td>False</td>\n",
       "      <td>WIND</td>\n",
       "      <td>230.0</td>\n",
       "      <td>2022-03-19 13:19:00</td>\n",
       "      <td>2022-03-19 13:04:00</td>\n",
       "    </tr>\n",
       "    <tr>\n",
       "      <th>T_EAAO-1</th>\n",
       "      <td>BOALF</td>\n",
       "      <td>4381</td>\n",
       "      <td>2022-03-19 13:19:00</td>\n",
       "      <td>False</td>\n",
       "      <td>False</td>\n",
       "      <td>False</td>\n",
       "      <td>False</td>\n",
       "      <td>False</td>\n",
       "      <td>WIND</td>\n",
       "      <td>230.0</td>\n",
       "      <td>2022-03-19 13:21:00</td>\n",
       "      <td>2022-03-19 13:19:00</td>\n",
       "    </tr>\n",
       "    <tr>\n",
       "      <th>T_EAAO-1</th>\n",
       "      <td>BOALF</td>\n",
       "      <td>4381</td>\n",
       "      <td>2022-03-19 13:19:00</td>\n",
       "      <td>False</td>\n",
       "      <td>False</td>\n",
       "      <td>False</td>\n",
       "      <td>False</td>\n",
       "      <td>False</td>\n",
       "      <td>WIND</td>\n",
       "      <td>220.0</td>\n",
       "      <td>2022-03-19 13:22:00</td>\n",
       "      <td>2022-03-19 13:19:00</td>\n",
       "    </tr>\n",
       "    <tr>\n",
       "      <th>T_EAAO-1</th>\n",
       "      <td>BOALF</td>\n",
       "      <td>4379</td>\n",
       "      <td>2022-03-19 12:46:00</td>\n",
       "      <td>False</td>\n",
       "      <td>True</td>\n",
       "      <td>False</td>\n",
       "      <td>False</td>\n",
       "      <td>False</td>\n",
       "      <td>WIND</td>\n",
       "      <td>230.0</td>\n",
       "      <td>2022-03-19 13:19:00</td>\n",
       "      <td>2022-03-19 12:46:00</td>\n",
       "    </tr>\n",
       "    <tr>\n",
       "      <th>T_EAAO-1</th>\n",
       "      <td>BOALF</td>\n",
       "      <td>4379</td>\n",
       "      <td>2022-03-19 12:46:00</td>\n",
       "      <td>False</td>\n",
       "      <td>True</td>\n",
       "      <td>False</td>\n",
       "      <td>False</td>\n",
       "      <td>False</td>\n",
       "      <td>WIND</td>\n",
       "      <td>336.0</td>\n",
       "      <td>2022-03-19 13:22:00</td>\n",
       "      <td>2022-03-19 12:46:00</td>\n",
       "    </tr>\n",
       "    <tr>\n",
       "      <th>T_EAAO-1</th>\n",
       "      <td>BOALF</td>\n",
       "      <td>4380</td>\n",
       "      <td>2022-03-19 13:04:00</td>\n",
       "      <td>False</td>\n",
       "      <td>True</td>\n",
       "      <td>False</td>\n",
       "      <td>False</td>\n",
       "      <td>False</td>\n",
       "      <td>WIND</td>\n",
       "      <td>230.0</td>\n",
       "      <td>2022-03-19 13:49:00</td>\n",
       "      <td>2022-03-19 13:04:00</td>\n",
       "    </tr>\n",
       "    <tr>\n",
       "      <th>T_EAAO-1</th>\n",
       "      <td>BOALF</td>\n",
       "      <td>4381</td>\n",
       "      <td>2022-03-19 13:19:00</td>\n",
       "      <td>False</td>\n",
       "      <td>False</td>\n",
       "      <td>False</td>\n",
       "      <td>False</td>\n",
       "      <td>False</td>\n",
       "      <td>WIND</td>\n",
       "      <td>220.0</td>\n",
       "      <td>2022-03-19 13:22:00</td>\n",
       "      <td>2022-03-19 13:19:00</td>\n",
       "    </tr>\n",
       "    <tr>\n",
       "      <th>T_EAAO-1</th>\n",
       "      <td>BOALF</td>\n",
       "      <td>4381</td>\n",
       "      <td>2022-03-19 13:19:00</td>\n",
       "      <td>False</td>\n",
       "      <td>False</td>\n",
       "      <td>False</td>\n",
       "      <td>False</td>\n",
       "      <td>False</td>\n",
       "      <td>WIND</td>\n",
       "      <td>220.0</td>\n",
       "      <td>2022-03-19 13:52:00</td>\n",
       "      <td>2022-03-19 13:19:00</td>\n",
       "    </tr>\n",
       "  </tbody>\n",
       "</table>\n",
       "</div>"
      ],
      "text/plain": [
       "         Notification Type  Accept ID         Accept Time  Deemed Flag  \\\n",
       "T_EAAO-1             BOALF       4379 2022-03-19 12:46:00        False   \n",
       "T_EAAO-1             BOALF       4379 2022-03-19 12:46:00        False   \n",
       "T_EAAO-1             BOALF       4380 2022-03-19 13:04:00        False   \n",
       "T_EAAO-1             BOALF       4381 2022-03-19 13:19:00        False   \n",
       "T_EAAO-1             BOALF       4381 2022-03-19 13:19:00        False   \n",
       "T_EAAO-1             BOALF       4379 2022-03-19 12:46:00        False   \n",
       "T_EAAO-1             BOALF       4379 2022-03-19 12:46:00        False   \n",
       "T_EAAO-1             BOALF       4380 2022-03-19 13:04:00        False   \n",
       "T_EAAO-1             BOALF       4381 2022-03-19 13:19:00        False   \n",
       "T_EAAO-1             BOALF       4381 2022-03-19 13:19:00        False   \n",
       "\n",
       "          SO Flag  STOR Provider Flag  RR Instruction Flag  RR Schedule Flag  \\\n",
       "T_EAAO-1     True               False                False             False   \n",
       "T_EAAO-1     True               False                False             False   \n",
       "T_EAAO-1     True               False                False             False   \n",
       "T_EAAO-1    False               False                False             False   \n",
       "T_EAAO-1    False               False                False             False   \n",
       "T_EAAO-1     True               False                False             False   \n",
       "T_EAAO-1     True               False                False             False   \n",
       "T_EAAO-1     True               False                False             False   \n",
       "T_EAAO-1    False               False                False             False   \n",
       "T_EAAO-1    False               False                False             False   \n",
       "\n",
       "         Fuel Type  Level                Time      Accept Time str  \n",
       "T_EAAO-1      WIND  230.0 2022-03-19 12:49:00  2022-03-19 12:46:00  \n",
       "T_EAAO-1      WIND  230.0 2022-03-19 13:19:00  2022-03-19 12:46:00  \n",
       "T_EAAO-1      WIND  230.0 2022-03-19 13:19:00  2022-03-19 13:04:00  \n",
       "T_EAAO-1      WIND  230.0 2022-03-19 13:21:00  2022-03-19 13:19:00  \n",
       "T_EAAO-1      WIND  220.0 2022-03-19 13:22:00  2022-03-19 13:19:00  \n",
       "T_EAAO-1      WIND  230.0 2022-03-19 13:19:00  2022-03-19 12:46:00  \n",
       "T_EAAO-1      WIND  336.0 2022-03-19 13:22:00  2022-03-19 12:46:00  \n",
       "T_EAAO-1      WIND  230.0 2022-03-19 13:49:00  2022-03-19 13:04:00  \n",
       "T_EAAO-1      WIND  220.0 2022-03-19 13:22:00  2022-03-19 13:19:00  \n",
       "T_EAAO-1      WIND  220.0 2022-03-19 13:52:00  2022-03-19 13:19:00  "
      ]
     },
     "execution_count": 146,
     "metadata": {},
     "output_type": "execute_result"
    }
   ],
   "source": [
    "df_boal_linear"
   ]
  },
  {
   "cell_type": "code",
   "execution_count": 147,
   "metadata": {},
   "outputs": [
    {
     "data": {
      "text/html": [
       "<div>\n",
       "<style scoped>\n",
       "    .dataframe tbody tr th:only-of-type {\n",
       "        vertical-align: middle;\n",
       "    }\n",
       "\n",
       "    .dataframe tbody tr th {\n",
       "        vertical-align: top;\n",
       "    }\n",
       "\n",
       "    .dataframe thead th {\n",
       "        text-align: right;\n",
       "    }\n",
       "</style>\n",
       "<table border=\"1\" class=\"dataframe\">\n",
       "  <thead>\n",
       "    <tr style=\"text-align: right;\">\n",
       "      <th></th>\n",
       "      <th>Unit</th>\n",
       "      <th>Notification Type</th>\n",
       "      <th>Accept ID</th>\n",
       "      <th>Accept Time</th>\n",
       "      <th>Deemed Flag</th>\n",
       "      <th>SO Flag</th>\n",
       "      <th>STOR Provider Flag</th>\n",
       "      <th>RR Instruction Flag</th>\n",
       "      <th>RR Schedule Flag</th>\n",
       "      <th>Fuel Type</th>\n",
       "      <th>Level</th>\n",
       "      <th>Time</th>\n",
       "      <th>Accept Time str</th>\n",
       "    </tr>\n",
       "  </thead>\n",
       "  <tbody>\n",
       "    <tr>\n",
       "      <th>0</th>\n",
       "      <td>T_EAAO-1</td>\n",
       "      <td>BOALF</td>\n",
       "      <td>4379</td>\n",
       "      <td>2022-03-19 12:46:00</td>\n",
       "      <td>False</td>\n",
       "      <td>True</td>\n",
       "      <td>False</td>\n",
       "      <td>False</td>\n",
       "      <td>False</td>\n",
       "      <td>WIND</td>\n",
       "      <td>230.0</td>\n",
       "      <td>2022-03-19 12:49:00</td>\n",
       "      <td>2022-03-19 12:46:00</td>\n",
       "    </tr>\n",
       "    <tr>\n",
       "      <th>1</th>\n",
       "      <td>T_EAAO-1</td>\n",
       "      <td>BOALF</td>\n",
       "      <td>4379</td>\n",
       "      <td>2022-03-19 12:46:00</td>\n",
       "      <td>False</td>\n",
       "      <td>True</td>\n",
       "      <td>False</td>\n",
       "      <td>False</td>\n",
       "      <td>False</td>\n",
       "      <td>WIND</td>\n",
       "      <td>230.0</td>\n",
       "      <td>2022-03-19 13:19:00</td>\n",
       "      <td>2022-03-19 12:46:00</td>\n",
       "    </tr>\n",
       "    <tr>\n",
       "      <th>2</th>\n",
       "      <td>T_EAAO-1</td>\n",
       "      <td>BOALF</td>\n",
       "      <td>4380</td>\n",
       "      <td>2022-03-19 13:04:00</td>\n",
       "      <td>False</td>\n",
       "      <td>True</td>\n",
       "      <td>False</td>\n",
       "      <td>False</td>\n",
       "      <td>False</td>\n",
       "      <td>WIND</td>\n",
       "      <td>230.0</td>\n",
       "      <td>2022-03-19 13:19:00</td>\n",
       "      <td>2022-03-19 13:04:00</td>\n",
       "    </tr>\n",
       "    <tr>\n",
       "      <th>3</th>\n",
       "      <td>T_EAAO-1</td>\n",
       "      <td>BOALF</td>\n",
       "      <td>4381</td>\n",
       "      <td>2022-03-19 13:19:00</td>\n",
       "      <td>False</td>\n",
       "      <td>False</td>\n",
       "      <td>False</td>\n",
       "      <td>False</td>\n",
       "      <td>False</td>\n",
       "      <td>WIND</td>\n",
       "      <td>230.0</td>\n",
       "      <td>2022-03-19 13:21:00</td>\n",
       "      <td>2022-03-19 13:19:00</td>\n",
       "    </tr>\n",
       "    <tr>\n",
       "      <th>4</th>\n",
       "      <td>T_EAAO-1</td>\n",
       "      <td>BOALF</td>\n",
       "      <td>4381</td>\n",
       "      <td>2022-03-19 13:19:00</td>\n",
       "      <td>False</td>\n",
       "      <td>False</td>\n",
       "      <td>False</td>\n",
       "      <td>False</td>\n",
       "      <td>False</td>\n",
       "      <td>WIND</td>\n",
       "      <td>220.0</td>\n",
       "      <td>2022-03-19 13:22:00</td>\n",
       "      <td>2022-03-19 13:19:00</td>\n",
       "    </tr>\n",
       "    <tr>\n",
       "      <th>5</th>\n",
       "      <td>T_EAAO-1</td>\n",
       "      <td>BOALF</td>\n",
       "      <td>4379</td>\n",
       "      <td>2022-03-19 12:46:00</td>\n",
       "      <td>False</td>\n",
       "      <td>True</td>\n",
       "      <td>False</td>\n",
       "      <td>False</td>\n",
       "      <td>False</td>\n",
       "      <td>WIND</td>\n",
       "      <td>230.0</td>\n",
       "      <td>2022-03-19 13:19:00</td>\n",
       "      <td>2022-03-19 12:46:00</td>\n",
       "    </tr>\n",
       "    <tr>\n",
       "      <th>6</th>\n",
       "      <td>T_EAAO-1</td>\n",
       "      <td>BOALF</td>\n",
       "      <td>4379</td>\n",
       "      <td>2022-03-19 12:46:00</td>\n",
       "      <td>False</td>\n",
       "      <td>True</td>\n",
       "      <td>False</td>\n",
       "      <td>False</td>\n",
       "      <td>False</td>\n",
       "      <td>WIND</td>\n",
       "      <td>336.0</td>\n",
       "      <td>2022-03-19 13:22:00</td>\n",
       "      <td>2022-03-19 12:46:00</td>\n",
       "    </tr>\n",
       "    <tr>\n",
       "      <th>7</th>\n",
       "      <td>T_EAAO-1</td>\n",
       "      <td>BOALF</td>\n",
       "      <td>4380</td>\n",
       "      <td>2022-03-19 13:04:00</td>\n",
       "      <td>False</td>\n",
       "      <td>True</td>\n",
       "      <td>False</td>\n",
       "      <td>False</td>\n",
       "      <td>False</td>\n",
       "      <td>WIND</td>\n",
       "      <td>230.0</td>\n",
       "      <td>2022-03-19 13:49:00</td>\n",
       "      <td>2022-03-19 13:04:00</td>\n",
       "    </tr>\n",
       "    <tr>\n",
       "      <th>8</th>\n",
       "      <td>T_EAAO-1</td>\n",
       "      <td>BOALF</td>\n",
       "      <td>4381</td>\n",
       "      <td>2022-03-19 13:19:00</td>\n",
       "      <td>False</td>\n",
       "      <td>False</td>\n",
       "      <td>False</td>\n",
       "      <td>False</td>\n",
       "      <td>False</td>\n",
       "      <td>WIND</td>\n",
       "      <td>220.0</td>\n",
       "      <td>2022-03-19 13:22:00</td>\n",
       "      <td>2022-03-19 13:19:00</td>\n",
       "    </tr>\n",
       "    <tr>\n",
       "      <th>9</th>\n",
       "      <td>T_EAAO-1</td>\n",
       "      <td>BOALF</td>\n",
       "      <td>4381</td>\n",
       "      <td>2022-03-19 13:19:00</td>\n",
       "      <td>False</td>\n",
       "      <td>False</td>\n",
       "      <td>False</td>\n",
       "      <td>False</td>\n",
       "      <td>False</td>\n",
       "      <td>WIND</td>\n",
       "      <td>220.0</td>\n",
       "      <td>2022-03-19 13:52:00</td>\n",
       "      <td>2022-03-19 13:19:00</td>\n",
       "    </tr>\n",
       "  </tbody>\n",
       "</table>\n",
       "</div>"
      ],
      "text/plain": [
       "       Unit Notification Type  Accept ID         Accept Time  Deemed Flag  \\\n",
       "0  T_EAAO-1             BOALF       4379 2022-03-19 12:46:00        False   \n",
       "1  T_EAAO-1             BOALF       4379 2022-03-19 12:46:00        False   \n",
       "2  T_EAAO-1             BOALF       4380 2022-03-19 13:04:00        False   \n",
       "3  T_EAAO-1             BOALF       4381 2022-03-19 13:19:00        False   \n",
       "4  T_EAAO-1             BOALF       4381 2022-03-19 13:19:00        False   \n",
       "5  T_EAAO-1             BOALF       4379 2022-03-19 12:46:00        False   \n",
       "6  T_EAAO-1             BOALF       4379 2022-03-19 12:46:00        False   \n",
       "7  T_EAAO-1             BOALF       4380 2022-03-19 13:04:00        False   \n",
       "8  T_EAAO-1             BOALF       4381 2022-03-19 13:19:00        False   \n",
       "9  T_EAAO-1             BOALF       4381 2022-03-19 13:19:00        False   \n",
       "\n",
       "   SO Flag  STOR Provider Flag  RR Instruction Flag  RR Schedule Flag  \\\n",
       "0     True               False                False             False   \n",
       "1     True               False                False             False   \n",
       "2     True               False                False             False   \n",
       "3    False               False                False             False   \n",
       "4    False               False                False             False   \n",
       "5     True               False                False             False   \n",
       "6     True               False                False             False   \n",
       "7     True               False                False             False   \n",
       "8    False               False                False             False   \n",
       "9    False               False                False             False   \n",
       "\n",
       "  Fuel Type  Level                Time      Accept Time str  \n",
       "0      WIND  230.0 2022-03-19 12:49:00  2022-03-19 12:46:00  \n",
       "1      WIND  230.0 2022-03-19 13:19:00  2022-03-19 12:46:00  \n",
       "2      WIND  230.0 2022-03-19 13:19:00  2022-03-19 13:04:00  \n",
       "3      WIND  230.0 2022-03-19 13:21:00  2022-03-19 13:19:00  \n",
       "4      WIND  220.0 2022-03-19 13:22:00  2022-03-19 13:19:00  \n",
       "5      WIND  230.0 2022-03-19 13:19:00  2022-03-19 12:46:00  \n",
       "6      WIND  336.0 2022-03-19 13:22:00  2022-03-19 12:46:00  \n",
       "7      WIND  230.0 2022-03-19 13:49:00  2022-03-19 13:04:00  \n",
       "8      WIND  220.0 2022-03-19 13:22:00  2022-03-19 13:19:00  \n",
       "9      WIND  220.0 2022-03-19 13:52:00  2022-03-19 13:19:00  "
      ]
     },
     "execution_count": 147,
     "metadata": {},
     "output_type": "execute_result"
    }
   ],
   "source": [
    "df_boal_linear.reset_index().rename(columns={\"index\": \"Unit\"})"
   ]
  },
  {
   "cell_type": "markdown",
   "metadata": {},
   "source": [
    "You need to resample to a high frequency for each overlapping acceptance period separately and then recombine"
   ]
  },
  {
   "cell_type": "code",
   "execution_count": 160,
   "metadata": {},
   "outputs": [],
   "source": [
    "out = []\n",
    "for accept_id, data in df_boal_linear.groupby(\"Accept ID\"):\n",
    "\n",
    "    high_freq = (\n",
    "        data.reset_index()\n",
    "        .rename(columns={\"index\": \"Unit\"})\n",
    "        .set_index(\"Time\")\n",
    "        .resample(\"1T\")\n",
    "        .first()\n",
    "\n",
    "    )\n",
    "    out.append(high_freq.interpolate().fillna(method='ffill'))"
   ]
  },
  {
   "cell_type": "code",
   "execution_count": 162,
   "metadata": {},
   "outputs": [],
   "source": [
    "recombined = pd.concat(out)"
   ]
  },
  {
   "cell_type": "code",
   "execution_count": 168,
   "metadata": {},
   "outputs": [
    {
     "data": {
      "application/vnd.plotly.v1+json": {
       "config": {
        "plotlyServerURL": "https://plot.ly"
       },
       "data": [
        {
         "customdata": [
          [
           "2022-03-19T12:46:00"
          ],
          [
           "2022-03-19T12:46:00"
          ],
          [
           "2022-03-19T12:46:00"
          ],
          [
           "2022-03-19T12:46:00"
          ],
          [
           "2022-03-19T12:46:00"
          ],
          [
           "2022-03-19T12:46:00"
          ],
          [
           "2022-03-19T12:46:00"
          ],
          [
           "2022-03-19T12:46:00"
          ],
          [
           "2022-03-19T12:46:00"
          ],
          [
           "2022-03-19T12:46:00"
          ],
          [
           "2022-03-19T12:46:00"
          ],
          [
           "2022-03-19T12:46:00"
          ],
          [
           "2022-03-19T12:46:00"
          ],
          [
           "2022-03-19T12:46:00"
          ],
          [
           "2022-03-19T12:46:00"
          ],
          [
           "2022-03-19T12:46:00"
          ],
          [
           "2022-03-19T12:46:00"
          ],
          [
           "2022-03-19T12:46:00"
          ],
          [
           "2022-03-19T12:46:00"
          ],
          [
           "2022-03-19T12:46:00"
          ],
          [
           "2022-03-19T12:46:00"
          ],
          [
           "2022-03-19T12:46:00"
          ],
          [
           "2022-03-19T12:46:00"
          ],
          [
           "2022-03-19T12:46:00"
          ],
          [
           "2022-03-19T12:46:00"
          ],
          [
           "2022-03-19T12:46:00"
          ],
          [
           "2022-03-19T12:46:00"
          ],
          [
           "2022-03-19T12:46:00"
          ],
          [
           "2022-03-19T12:46:00"
          ],
          [
           "2022-03-19T12:46:00"
          ],
          [
           "2022-03-19T12:46:00"
          ],
          [
           "2022-03-19T12:46:00"
          ],
          [
           "2022-03-19T12:46:00"
          ],
          [
           "2022-03-19T12:46:00"
          ]
         ],
         "hovertemplate": "Accept ID=4379.0<br>Time=%{x}<br>Level=%{y}<br>Accept Time=%{customdata[0]}<extra></extra>",
         "legendgroup": "4379.0",
         "line": {
          "color": "#636efa",
          "dash": "solid"
         },
         "marker": {
          "symbol": "circle"
         },
         "mode": "lines",
         "name": "4379.0",
         "orientation": "v",
         "showlegend": true,
         "type": "scatter",
         "x": [
          "2022-03-19T12:49:00",
          "2022-03-19T12:50:00",
          "2022-03-19T12:51:00",
          "2022-03-19T12:52:00",
          "2022-03-19T12:53:00",
          "2022-03-19T12:54:00",
          "2022-03-19T12:55:00",
          "2022-03-19T12:56:00",
          "2022-03-19T12:57:00",
          "2022-03-19T12:58:00",
          "2022-03-19T12:59:00",
          "2022-03-19T13:00:00",
          "2022-03-19T13:01:00",
          "2022-03-19T13:02:00",
          "2022-03-19T13:03:00",
          "2022-03-19T13:04:00",
          "2022-03-19T13:05:00",
          "2022-03-19T13:06:00",
          "2022-03-19T13:07:00",
          "2022-03-19T13:08:00",
          "2022-03-19T13:09:00",
          "2022-03-19T13:10:00",
          "2022-03-19T13:11:00",
          "2022-03-19T13:12:00",
          "2022-03-19T13:13:00",
          "2022-03-19T13:14:00",
          "2022-03-19T13:15:00",
          "2022-03-19T13:16:00",
          "2022-03-19T13:17:00",
          "2022-03-19T13:18:00",
          "2022-03-19T13:19:00",
          "2022-03-19T13:20:00",
          "2022-03-19T13:21:00",
          "2022-03-19T13:22:00"
         ],
         "xaxis": "x",
         "y": [
          230,
          230,
          230,
          230,
          230,
          230,
          230,
          230,
          230,
          230,
          230,
          230,
          230,
          230,
          230,
          230,
          230,
          230,
          230,
          230,
          230,
          230,
          230,
          230,
          230,
          230,
          230,
          230,
          230,
          230,
          230,
          265.3333333333333,
          300.6666666666667,
          336
         ],
         "yaxis": "y"
        },
        {
         "customdata": [
          [
           "2022-03-19T13:04:00"
          ],
          [
           "2022-03-19T13:04:00"
          ],
          [
           "2022-03-19T13:04:00"
          ],
          [
           "2022-03-19T13:04:00"
          ],
          [
           "2022-03-19T13:04:00"
          ],
          [
           "2022-03-19T13:04:00"
          ],
          [
           "2022-03-19T13:04:00"
          ],
          [
           "2022-03-19T13:04:00"
          ],
          [
           "2022-03-19T13:04:00"
          ],
          [
           "2022-03-19T13:04:00"
          ],
          [
           "2022-03-19T13:04:00"
          ],
          [
           "2022-03-19T13:04:00"
          ],
          [
           "2022-03-19T13:04:00"
          ],
          [
           "2022-03-19T13:04:00"
          ],
          [
           "2022-03-19T13:04:00"
          ],
          [
           "2022-03-19T13:04:00"
          ],
          [
           "2022-03-19T13:04:00"
          ],
          [
           "2022-03-19T13:04:00"
          ],
          [
           "2022-03-19T13:04:00"
          ],
          [
           "2022-03-19T13:04:00"
          ],
          [
           "2022-03-19T13:04:00"
          ],
          [
           "2022-03-19T13:04:00"
          ],
          [
           "2022-03-19T13:04:00"
          ],
          [
           "2022-03-19T13:04:00"
          ],
          [
           "2022-03-19T13:04:00"
          ],
          [
           "2022-03-19T13:04:00"
          ],
          [
           "2022-03-19T13:04:00"
          ],
          [
           "2022-03-19T13:04:00"
          ],
          [
           "2022-03-19T13:04:00"
          ],
          [
           "2022-03-19T13:04:00"
          ],
          [
           "2022-03-19T13:04:00"
          ]
         ],
         "hovertemplate": "Accept ID=4380.0<br>Time=%{x}<br>Level=%{y}<br>Accept Time=%{customdata[0]}<extra></extra>",
         "legendgroup": "4380.0",
         "line": {
          "color": "#EF553B",
          "dash": "solid"
         },
         "marker": {
          "symbol": "circle"
         },
         "mode": "lines",
         "name": "4380.0",
         "orientation": "v",
         "showlegend": true,
         "type": "scatter",
         "x": [
          "2022-03-19T13:19:00",
          "2022-03-19T13:20:00",
          "2022-03-19T13:21:00",
          "2022-03-19T13:22:00",
          "2022-03-19T13:23:00",
          "2022-03-19T13:24:00",
          "2022-03-19T13:25:00",
          "2022-03-19T13:26:00",
          "2022-03-19T13:27:00",
          "2022-03-19T13:28:00",
          "2022-03-19T13:29:00",
          "2022-03-19T13:30:00",
          "2022-03-19T13:31:00",
          "2022-03-19T13:32:00",
          "2022-03-19T13:33:00",
          "2022-03-19T13:34:00",
          "2022-03-19T13:35:00",
          "2022-03-19T13:36:00",
          "2022-03-19T13:37:00",
          "2022-03-19T13:38:00",
          "2022-03-19T13:39:00",
          "2022-03-19T13:40:00",
          "2022-03-19T13:41:00",
          "2022-03-19T13:42:00",
          "2022-03-19T13:43:00",
          "2022-03-19T13:44:00",
          "2022-03-19T13:45:00",
          "2022-03-19T13:46:00",
          "2022-03-19T13:47:00",
          "2022-03-19T13:48:00",
          "2022-03-19T13:49:00"
         ],
         "xaxis": "x",
         "y": [
          230,
          230,
          230,
          230,
          230,
          230,
          230,
          230,
          230,
          230,
          230,
          230,
          230,
          230,
          230,
          230,
          230,
          230,
          230,
          230,
          230,
          230,
          230,
          230,
          230,
          230,
          230,
          230,
          230,
          230,
          230
         ],
         "yaxis": "y"
        },
        {
         "customdata": [
          [
           "2022-03-19T13:19:00"
          ],
          [
           "2022-03-19T13:19:00"
          ],
          [
           "2022-03-19T13:19:00"
          ],
          [
           "2022-03-19T13:19:00"
          ],
          [
           "2022-03-19T13:19:00"
          ],
          [
           "2022-03-19T13:19:00"
          ],
          [
           "2022-03-19T13:19:00"
          ],
          [
           "2022-03-19T13:19:00"
          ],
          [
           "2022-03-19T13:19:00"
          ],
          [
           "2022-03-19T13:19:00"
          ],
          [
           "2022-03-19T13:19:00"
          ],
          [
           "2022-03-19T13:19:00"
          ],
          [
           "2022-03-19T13:19:00"
          ],
          [
           "2022-03-19T13:19:00"
          ],
          [
           "2022-03-19T13:19:00"
          ],
          [
           "2022-03-19T13:19:00"
          ],
          [
           "2022-03-19T13:19:00"
          ],
          [
           "2022-03-19T13:19:00"
          ],
          [
           "2022-03-19T13:19:00"
          ],
          [
           "2022-03-19T13:19:00"
          ],
          [
           "2022-03-19T13:19:00"
          ],
          [
           "2022-03-19T13:19:00"
          ],
          [
           "2022-03-19T13:19:00"
          ],
          [
           "2022-03-19T13:19:00"
          ],
          [
           "2022-03-19T13:19:00"
          ],
          [
           "2022-03-19T13:19:00"
          ],
          [
           "2022-03-19T13:19:00"
          ],
          [
           "2022-03-19T13:19:00"
          ],
          [
           "2022-03-19T13:19:00"
          ],
          [
           "2022-03-19T13:19:00"
          ],
          [
           "2022-03-19T13:19:00"
          ],
          [
           "2022-03-19T13:19:00"
          ]
         ],
         "hovertemplate": "Accept ID=4381.0<br>Time=%{x}<br>Level=%{y}<br>Accept Time=%{customdata[0]}<extra></extra>",
         "legendgroup": "4381.0",
         "line": {
          "color": "#00cc96",
          "dash": "solid"
         },
         "marker": {
          "symbol": "circle"
         },
         "mode": "lines",
         "name": "4381.0",
         "orientation": "v",
         "showlegend": true,
         "type": "scatter",
         "x": [
          "2022-03-19T13:21:00",
          "2022-03-19T13:22:00",
          "2022-03-19T13:23:00",
          "2022-03-19T13:24:00",
          "2022-03-19T13:25:00",
          "2022-03-19T13:26:00",
          "2022-03-19T13:27:00",
          "2022-03-19T13:28:00",
          "2022-03-19T13:29:00",
          "2022-03-19T13:30:00",
          "2022-03-19T13:31:00",
          "2022-03-19T13:32:00",
          "2022-03-19T13:33:00",
          "2022-03-19T13:34:00",
          "2022-03-19T13:35:00",
          "2022-03-19T13:36:00",
          "2022-03-19T13:37:00",
          "2022-03-19T13:38:00",
          "2022-03-19T13:39:00",
          "2022-03-19T13:40:00",
          "2022-03-19T13:41:00",
          "2022-03-19T13:42:00",
          "2022-03-19T13:43:00",
          "2022-03-19T13:44:00",
          "2022-03-19T13:45:00",
          "2022-03-19T13:46:00",
          "2022-03-19T13:47:00",
          "2022-03-19T13:48:00",
          "2022-03-19T13:49:00",
          "2022-03-19T13:50:00",
          "2022-03-19T13:51:00",
          "2022-03-19T13:52:00"
         ],
         "xaxis": "x",
         "y": [
          230,
          220,
          220,
          220,
          220,
          220,
          220,
          220,
          220,
          220,
          220,
          220,
          220,
          220,
          220,
          220,
          220,
          220,
          220,
          220,
          220,
          220,
          220,
          220,
          220,
          220,
          220,
          220,
          220,
          220,
          220,
          220
         ],
         "yaxis": "y"
        }
       ],
       "layout": {
        "legend": {
         "title": {
          "text": "Accept ID"
         },
         "tracegroupgap": 0
        },
        "margin": {
         "t": 60
        },
        "template": {
         "data": {
          "bar": [
           {
            "error_x": {
             "color": "#2a3f5f"
            },
            "error_y": {
             "color": "#2a3f5f"
            },
            "marker": {
             "line": {
              "color": "#E5ECF6",
              "width": 0.5
             },
             "pattern": {
              "fillmode": "overlay",
              "size": 10,
              "solidity": 0.2
             }
            },
            "type": "bar"
           }
          ],
          "barpolar": [
           {
            "marker": {
             "line": {
              "color": "#E5ECF6",
              "width": 0.5
             },
             "pattern": {
              "fillmode": "overlay",
              "size": 10,
              "solidity": 0.2
             }
            },
            "type": "barpolar"
           }
          ],
          "carpet": [
           {
            "aaxis": {
             "endlinecolor": "#2a3f5f",
             "gridcolor": "white",
             "linecolor": "white",
             "minorgridcolor": "white",
             "startlinecolor": "#2a3f5f"
            },
            "baxis": {
             "endlinecolor": "#2a3f5f",
             "gridcolor": "white",
             "linecolor": "white",
             "minorgridcolor": "white",
             "startlinecolor": "#2a3f5f"
            },
            "type": "carpet"
           }
          ],
          "choropleth": [
           {
            "colorbar": {
             "outlinewidth": 0,
             "ticks": ""
            },
            "type": "choropleth"
           }
          ],
          "contour": [
           {
            "colorbar": {
             "outlinewidth": 0,
             "ticks": ""
            },
            "colorscale": [
             [
              0,
              "#0d0887"
             ],
             [
              0.1111111111111111,
              "#46039f"
             ],
             [
              0.2222222222222222,
              "#7201a8"
             ],
             [
              0.3333333333333333,
              "#9c179e"
             ],
             [
              0.4444444444444444,
              "#bd3786"
             ],
             [
              0.5555555555555556,
              "#d8576b"
             ],
             [
              0.6666666666666666,
              "#ed7953"
             ],
             [
              0.7777777777777778,
              "#fb9f3a"
             ],
             [
              0.8888888888888888,
              "#fdca26"
             ],
             [
              1,
              "#f0f921"
             ]
            ],
            "type": "contour"
           }
          ],
          "contourcarpet": [
           {
            "colorbar": {
             "outlinewidth": 0,
             "ticks": ""
            },
            "type": "contourcarpet"
           }
          ],
          "heatmap": [
           {
            "colorbar": {
             "outlinewidth": 0,
             "ticks": ""
            },
            "colorscale": [
             [
              0,
              "#0d0887"
             ],
             [
              0.1111111111111111,
              "#46039f"
             ],
             [
              0.2222222222222222,
              "#7201a8"
             ],
             [
              0.3333333333333333,
              "#9c179e"
             ],
             [
              0.4444444444444444,
              "#bd3786"
             ],
             [
              0.5555555555555556,
              "#d8576b"
             ],
             [
              0.6666666666666666,
              "#ed7953"
             ],
             [
              0.7777777777777778,
              "#fb9f3a"
             ],
             [
              0.8888888888888888,
              "#fdca26"
             ],
             [
              1,
              "#f0f921"
             ]
            ],
            "type": "heatmap"
           }
          ],
          "heatmapgl": [
           {
            "colorbar": {
             "outlinewidth": 0,
             "ticks": ""
            },
            "colorscale": [
             [
              0,
              "#0d0887"
             ],
             [
              0.1111111111111111,
              "#46039f"
             ],
             [
              0.2222222222222222,
              "#7201a8"
             ],
             [
              0.3333333333333333,
              "#9c179e"
             ],
             [
              0.4444444444444444,
              "#bd3786"
             ],
             [
              0.5555555555555556,
              "#d8576b"
             ],
             [
              0.6666666666666666,
              "#ed7953"
             ],
             [
              0.7777777777777778,
              "#fb9f3a"
             ],
             [
              0.8888888888888888,
              "#fdca26"
             ],
             [
              1,
              "#f0f921"
             ]
            ],
            "type": "heatmapgl"
           }
          ],
          "histogram": [
           {
            "marker": {
             "pattern": {
              "fillmode": "overlay",
              "size": 10,
              "solidity": 0.2
             }
            },
            "type": "histogram"
           }
          ],
          "histogram2d": [
           {
            "colorbar": {
             "outlinewidth": 0,
             "ticks": ""
            },
            "colorscale": [
             [
              0,
              "#0d0887"
             ],
             [
              0.1111111111111111,
              "#46039f"
             ],
             [
              0.2222222222222222,
              "#7201a8"
             ],
             [
              0.3333333333333333,
              "#9c179e"
             ],
             [
              0.4444444444444444,
              "#bd3786"
             ],
             [
              0.5555555555555556,
              "#d8576b"
             ],
             [
              0.6666666666666666,
              "#ed7953"
             ],
             [
              0.7777777777777778,
              "#fb9f3a"
             ],
             [
              0.8888888888888888,
              "#fdca26"
             ],
             [
              1,
              "#f0f921"
             ]
            ],
            "type": "histogram2d"
           }
          ],
          "histogram2dcontour": [
           {
            "colorbar": {
             "outlinewidth": 0,
             "ticks": ""
            },
            "colorscale": [
             [
              0,
              "#0d0887"
             ],
             [
              0.1111111111111111,
              "#46039f"
             ],
             [
              0.2222222222222222,
              "#7201a8"
             ],
             [
              0.3333333333333333,
              "#9c179e"
             ],
             [
              0.4444444444444444,
              "#bd3786"
             ],
             [
              0.5555555555555556,
              "#d8576b"
             ],
             [
              0.6666666666666666,
              "#ed7953"
             ],
             [
              0.7777777777777778,
              "#fb9f3a"
             ],
             [
              0.8888888888888888,
              "#fdca26"
             ],
             [
              1,
              "#f0f921"
             ]
            ],
            "type": "histogram2dcontour"
           }
          ],
          "mesh3d": [
           {
            "colorbar": {
             "outlinewidth": 0,
             "ticks": ""
            },
            "type": "mesh3d"
           }
          ],
          "parcoords": [
           {
            "line": {
             "colorbar": {
              "outlinewidth": 0,
              "ticks": ""
             }
            },
            "type": "parcoords"
           }
          ],
          "pie": [
           {
            "automargin": true,
            "type": "pie"
           }
          ],
          "scatter": [
           {
            "fillpattern": {
             "fillmode": "overlay",
             "size": 10,
             "solidity": 0.2
            },
            "type": "scatter"
           }
          ],
          "scatter3d": [
           {
            "line": {
             "colorbar": {
              "outlinewidth": 0,
              "ticks": ""
             }
            },
            "marker": {
             "colorbar": {
              "outlinewidth": 0,
              "ticks": ""
             }
            },
            "type": "scatter3d"
           }
          ],
          "scattercarpet": [
           {
            "marker": {
             "colorbar": {
              "outlinewidth": 0,
              "ticks": ""
             }
            },
            "type": "scattercarpet"
           }
          ],
          "scattergeo": [
           {
            "marker": {
             "colorbar": {
              "outlinewidth": 0,
              "ticks": ""
             }
            },
            "type": "scattergeo"
           }
          ],
          "scattergl": [
           {
            "marker": {
             "colorbar": {
              "outlinewidth": 0,
              "ticks": ""
             }
            },
            "type": "scattergl"
           }
          ],
          "scattermapbox": [
           {
            "marker": {
             "colorbar": {
              "outlinewidth": 0,
              "ticks": ""
             }
            },
            "type": "scattermapbox"
           }
          ],
          "scatterpolar": [
           {
            "marker": {
             "colorbar": {
              "outlinewidth": 0,
              "ticks": ""
             }
            },
            "type": "scatterpolar"
           }
          ],
          "scatterpolargl": [
           {
            "marker": {
             "colorbar": {
              "outlinewidth": 0,
              "ticks": ""
             }
            },
            "type": "scatterpolargl"
           }
          ],
          "scatterternary": [
           {
            "marker": {
             "colorbar": {
              "outlinewidth": 0,
              "ticks": ""
             }
            },
            "type": "scatterternary"
           }
          ],
          "surface": [
           {
            "colorbar": {
             "outlinewidth": 0,
             "ticks": ""
            },
            "colorscale": [
             [
              0,
              "#0d0887"
             ],
             [
              0.1111111111111111,
              "#46039f"
             ],
             [
              0.2222222222222222,
              "#7201a8"
             ],
             [
              0.3333333333333333,
              "#9c179e"
             ],
             [
              0.4444444444444444,
              "#bd3786"
             ],
             [
              0.5555555555555556,
              "#d8576b"
             ],
             [
              0.6666666666666666,
              "#ed7953"
             ],
             [
              0.7777777777777778,
              "#fb9f3a"
             ],
             [
              0.8888888888888888,
              "#fdca26"
             ],
             [
              1,
              "#f0f921"
             ]
            ],
            "type": "surface"
           }
          ],
          "table": [
           {
            "cells": {
             "fill": {
              "color": "#EBF0F8"
             },
             "line": {
              "color": "white"
             }
            },
            "header": {
             "fill": {
              "color": "#C8D4E3"
             },
             "line": {
              "color": "white"
             }
            },
            "type": "table"
           }
          ]
         },
         "layout": {
          "annotationdefaults": {
           "arrowcolor": "#2a3f5f",
           "arrowhead": 0,
           "arrowwidth": 1
          },
          "autotypenumbers": "strict",
          "coloraxis": {
           "colorbar": {
            "outlinewidth": 0,
            "ticks": ""
           }
          },
          "colorscale": {
           "diverging": [
            [
             0,
             "#8e0152"
            ],
            [
             0.1,
             "#c51b7d"
            ],
            [
             0.2,
             "#de77ae"
            ],
            [
             0.3,
             "#f1b6da"
            ],
            [
             0.4,
             "#fde0ef"
            ],
            [
             0.5,
             "#f7f7f7"
            ],
            [
             0.6,
             "#e6f5d0"
            ],
            [
             0.7,
             "#b8e186"
            ],
            [
             0.8,
             "#7fbc41"
            ],
            [
             0.9,
             "#4d9221"
            ],
            [
             1,
             "#276419"
            ]
           ],
           "sequential": [
            [
             0,
             "#0d0887"
            ],
            [
             0.1111111111111111,
             "#46039f"
            ],
            [
             0.2222222222222222,
             "#7201a8"
            ],
            [
             0.3333333333333333,
             "#9c179e"
            ],
            [
             0.4444444444444444,
             "#bd3786"
            ],
            [
             0.5555555555555556,
             "#d8576b"
            ],
            [
             0.6666666666666666,
             "#ed7953"
            ],
            [
             0.7777777777777778,
             "#fb9f3a"
            ],
            [
             0.8888888888888888,
             "#fdca26"
            ],
            [
             1,
             "#f0f921"
            ]
           ],
           "sequentialminus": [
            [
             0,
             "#0d0887"
            ],
            [
             0.1111111111111111,
             "#46039f"
            ],
            [
             0.2222222222222222,
             "#7201a8"
            ],
            [
             0.3333333333333333,
             "#9c179e"
            ],
            [
             0.4444444444444444,
             "#bd3786"
            ],
            [
             0.5555555555555556,
             "#d8576b"
            ],
            [
             0.6666666666666666,
             "#ed7953"
            ],
            [
             0.7777777777777778,
             "#fb9f3a"
            ],
            [
             0.8888888888888888,
             "#fdca26"
            ],
            [
             1,
             "#f0f921"
            ]
           ]
          },
          "colorway": [
           "#636efa",
           "#EF553B",
           "#00cc96",
           "#ab63fa",
           "#FFA15A",
           "#19d3f3",
           "#FF6692",
           "#B6E880",
           "#FF97FF",
           "#FECB52"
          ],
          "font": {
           "color": "#2a3f5f"
          },
          "geo": {
           "bgcolor": "white",
           "lakecolor": "white",
           "landcolor": "#E5ECF6",
           "showlakes": true,
           "showland": true,
           "subunitcolor": "white"
          },
          "hoverlabel": {
           "align": "left"
          },
          "hovermode": "closest",
          "mapbox": {
           "style": "light"
          },
          "paper_bgcolor": "white",
          "plot_bgcolor": "#E5ECF6",
          "polar": {
           "angularaxis": {
            "gridcolor": "white",
            "linecolor": "white",
            "ticks": ""
           },
           "bgcolor": "#E5ECF6",
           "radialaxis": {
            "gridcolor": "white",
            "linecolor": "white",
            "ticks": ""
           }
          },
          "scene": {
           "xaxis": {
            "backgroundcolor": "#E5ECF6",
            "gridcolor": "white",
            "gridwidth": 2,
            "linecolor": "white",
            "showbackground": true,
            "ticks": "",
            "zerolinecolor": "white"
           },
           "yaxis": {
            "backgroundcolor": "#E5ECF6",
            "gridcolor": "white",
            "gridwidth": 2,
            "linecolor": "white",
            "showbackground": true,
            "ticks": "",
            "zerolinecolor": "white"
           },
           "zaxis": {
            "backgroundcolor": "#E5ECF6",
            "gridcolor": "white",
            "gridwidth": 2,
            "linecolor": "white",
            "showbackground": true,
            "ticks": "",
            "zerolinecolor": "white"
           }
          },
          "shapedefaults": {
           "line": {
            "color": "#2a3f5f"
           }
          },
          "ternary": {
           "aaxis": {
            "gridcolor": "white",
            "linecolor": "white",
            "ticks": ""
           },
           "baxis": {
            "gridcolor": "white",
            "linecolor": "white",
            "ticks": ""
           },
           "bgcolor": "#E5ECF6",
           "caxis": {
            "gridcolor": "white",
            "linecolor": "white",
            "ticks": ""
           }
          },
          "title": {
           "x": 0.05
          },
          "xaxis": {
           "automargin": true,
           "gridcolor": "white",
           "linecolor": "white",
           "ticks": "",
           "title": {
            "standoff": 15
           },
           "zerolinecolor": "white",
           "zerolinewidth": 2
          },
          "yaxis": {
           "automargin": true,
           "gridcolor": "white",
           "linecolor": "white",
           "ticks": "",
           "title": {
            "standoff": 15
           },
           "zerolinecolor": "white",
           "zerolinewidth": 2
          }
         }
        },
        "xaxis": {
         "anchor": "y",
         "domain": [
          0,
          1
         ],
         "title": {
          "text": "Time"
         }
        },
        "yaxis": {
         "anchor": "x",
         "domain": [
          0,
          1
         ],
         "title": {
          "text": "Level"
         }
        }
       }
      }
     },
     "metadata": {},
     "output_type": "display_data"
    }
   ],
   "source": [
    "px.line(recombined, x=recombined.index, y =\"Level\", color='Accept ID', hover_data=['Accept Time'])"
   ]
  },
  {
   "cell_type": "markdown",
   "metadata": {},
   "source": []
  },
  {
   "cell_type": "code",
   "execution_count": 164,
   "metadata": {},
   "outputs": [],
   "source": [
    "resolved = recombined.reset_index().groupby('Time').last()"
   ]
  },
  {
   "cell_type": "code",
   "execution_count": 178,
   "metadata": {},
   "outputs": [
    {
     "data": {
      "text/plain": [
       "Notification Type            object\n",
       "Settlement Period            object\n",
       "Fuel Type                    object\n",
       "Level                        object\n",
       "Time                 datetime64[ns]\n",
       "dtype: object"
      ]
     },
     "execution_count": 178,
     "metadata": {},
     "output_type": "execute_result"
    }
   ],
   "source": [
    "linearize_physical_data(pd.DataFrame(df_fpn.loc[unit]).T).dtypes"
   ]
  },
  {
   "cell_type": "code",
   "execution_count": 182,
   "metadata": {},
   "outputs": [],
   "source": [
    "unit_fpn_resolved = linearize_physical_data(pd.DataFrame(df_fpn.loc[unit]).T).set_index('Time').resample('1T').mean().interpolate()"
   ]
  },
  {
   "cell_type": "code",
   "execution_count": 183,
   "metadata": {},
   "outputs": [
    {
     "data": {
      "text/html": [
       "<div>\n",
       "<style scoped>\n",
       "    .dataframe tbody tr th:only-of-type {\n",
       "        vertical-align: middle;\n",
       "    }\n",
       "\n",
       "    .dataframe tbody tr th {\n",
       "        vertical-align: top;\n",
       "    }\n",
       "\n",
       "    .dataframe thead th {\n",
       "        text-align: right;\n",
       "    }\n",
       "</style>\n",
       "<table border=\"1\" class=\"dataframe\">\n",
       "  <thead>\n",
       "    <tr style=\"text-align: right;\">\n",
       "      <th></th>\n",
       "      <th>Level</th>\n",
       "    </tr>\n",
       "    <tr>\n",
       "      <th>Time</th>\n",
       "      <th></th>\n",
       "    </tr>\n",
       "  </thead>\n",
       "  <tbody>\n",
       "    <tr>\n",
       "      <th>2022-03-19 13:00:00</th>\n",
       "      <td>336.0</td>\n",
       "    </tr>\n",
       "    <tr>\n",
       "      <th>2022-03-19 13:01:00</th>\n",
       "      <td>336.0</td>\n",
       "    </tr>\n",
       "    <tr>\n",
       "      <th>2022-03-19 13:02:00</th>\n",
       "      <td>336.0</td>\n",
       "    </tr>\n",
       "    <tr>\n",
       "      <th>2022-03-19 13:03:00</th>\n",
       "      <td>336.0</td>\n",
       "    </tr>\n",
       "    <tr>\n",
       "      <th>2022-03-19 13:04:00</th>\n",
       "      <td>336.0</td>\n",
       "    </tr>\n",
       "  </tbody>\n",
       "</table>\n",
       "</div>"
      ],
      "text/plain": [
       "                     Level\n",
       "Time                      \n",
       "2022-03-19 13:00:00  336.0\n",
       "2022-03-19 13:01:00  336.0\n",
       "2022-03-19 13:02:00  336.0\n",
       "2022-03-19 13:03:00  336.0\n",
       "2022-03-19 13:04:00  336.0"
      ]
     },
     "execution_count": 183,
     "metadata": {},
     "output_type": "execute_result"
    }
   ],
   "source": [
    "unit_fpn_resolved.head()"
   ]
  },
  {
   "cell_type": "code",
   "execution_count": 187,
   "metadata": {},
   "outputs": [],
   "source": [
    "unit_fpn_resolved[\"Notification Type\"] = 'FPN'\n",
    "combined = pd.concat((resolved, unit_fpn_resolved))"
   ]
  },
  {
   "cell_type": "code",
   "execution_count": 170,
   "metadata": {},
   "outputs": [
    {
     "data": {
      "application/vnd.plotly.v1+json": {
       "config": {
        "plotlyServerURL": "https://plot.ly"
       },
       "data": [
        {
         "hovertemplate": "Accept ID=4379.0<br>Time=%{x}<br>Level=%{y}<extra></extra>",
         "legendgroup": "4379.0",
         "line": {
          "color": "#636efa",
          "dash": "solid"
         },
         "marker": {
          "symbol": "circle"
         },
         "mode": "lines",
         "name": "4379.0",
         "orientation": "v",
         "showlegend": true,
         "type": "scatter",
         "x": [
          "2022-03-19T12:49:00",
          "2022-03-19T12:50:00",
          "2022-03-19T12:51:00",
          "2022-03-19T12:52:00",
          "2022-03-19T12:53:00",
          "2022-03-19T12:54:00",
          "2022-03-19T12:55:00",
          "2022-03-19T12:56:00",
          "2022-03-19T12:57:00",
          "2022-03-19T12:58:00",
          "2022-03-19T12:59:00",
          "2022-03-19T13:00:00",
          "2022-03-19T13:01:00",
          "2022-03-19T13:02:00",
          "2022-03-19T13:03:00",
          "2022-03-19T13:04:00",
          "2022-03-19T13:05:00",
          "2022-03-19T13:06:00",
          "2022-03-19T13:07:00",
          "2022-03-19T13:08:00",
          "2022-03-19T13:09:00",
          "2022-03-19T13:10:00",
          "2022-03-19T13:11:00",
          "2022-03-19T13:12:00",
          "2022-03-19T13:13:00",
          "2022-03-19T13:14:00",
          "2022-03-19T13:15:00",
          "2022-03-19T13:16:00",
          "2022-03-19T13:17:00",
          "2022-03-19T13:18:00"
         ],
         "xaxis": "x",
         "y": [
          230,
          230,
          230,
          230,
          230,
          230,
          230,
          230,
          230,
          230,
          230,
          230,
          230,
          230,
          230,
          230,
          230,
          230,
          230,
          230,
          230,
          230,
          230,
          230,
          230,
          230,
          230,
          230,
          230,
          230
         ],
         "yaxis": "y"
        },
        {
         "hovertemplate": "Accept ID=4380.0<br>Time=%{x}<br>Level=%{y}<extra></extra>",
         "legendgroup": "4380.0",
         "line": {
          "color": "#EF553B",
          "dash": "solid"
         },
         "marker": {
          "symbol": "circle"
         },
         "mode": "lines",
         "name": "4380.0",
         "orientation": "v",
         "showlegend": true,
         "type": "scatter",
         "x": [
          "2022-03-19T13:19:00",
          "2022-03-19T13:20:00"
         ],
         "xaxis": "x",
         "y": [
          230,
          230
         ],
         "yaxis": "y"
        },
        {
         "hovertemplate": "Accept ID=4381.0<br>Time=%{x}<br>Level=%{y}<extra></extra>",
         "legendgroup": "4381.0",
         "line": {
          "color": "#00cc96",
          "dash": "solid"
         },
         "marker": {
          "symbol": "circle"
         },
         "mode": "lines",
         "name": "4381.0",
         "orientation": "v",
         "showlegend": true,
         "type": "scatter",
         "x": [
          "2022-03-19T13:21:00",
          "2022-03-19T13:22:00",
          "2022-03-19T13:23:00",
          "2022-03-19T13:24:00",
          "2022-03-19T13:25:00",
          "2022-03-19T13:26:00",
          "2022-03-19T13:27:00",
          "2022-03-19T13:28:00",
          "2022-03-19T13:29:00",
          "2022-03-19T13:30:00",
          "2022-03-19T13:31:00",
          "2022-03-19T13:32:00",
          "2022-03-19T13:33:00",
          "2022-03-19T13:34:00",
          "2022-03-19T13:35:00",
          "2022-03-19T13:36:00",
          "2022-03-19T13:37:00",
          "2022-03-19T13:38:00",
          "2022-03-19T13:39:00",
          "2022-03-19T13:40:00",
          "2022-03-19T13:41:00",
          "2022-03-19T13:42:00",
          "2022-03-19T13:43:00",
          "2022-03-19T13:44:00",
          "2022-03-19T13:45:00",
          "2022-03-19T13:46:00",
          "2022-03-19T13:47:00",
          "2022-03-19T13:48:00",
          "2022-03-19T13:49:00",
          "2022-03-19T13:50:00",
          "2022-03-19T13:51:00",
          "2022-03-19T13:52:00"
         ],
         "xaxis": "x",
         "y": [
          230,
          220,
          220,
          220,
          220,
          220,
          220,
          220,
          220,
          220,
          220,
          220,
          220,
          220,
          220,
          220,
          220,
          220,
          220,
          220,
          220,
          220,
          220,
          220,
          220,
          220,
          220,
          220,
          220,
          220,
          220,
          220
         ],
         "yaxis": "y"
        }
       ],
       "layout": {
        "legend": {
         "title": {
          "text": "Accept ID"
         },
         "tracegroupgap": 0
        },
        "margin": {
         "t": 60
        },
        "shapes": [
         {
          "type": "line",
          "x0": 0,
          "x1": 1,
          "xref": "x domain",
          "y0": 336,
          "y1": 336,
          "yref": "y"
         }
        ],
        "template": {
         "data": {
          "bar": [
           {
            "error_x": {
             "color": "#2a3f5f"
            },
            "error_y": {
             "color": "#2a3f5f"
            },
            "marker": {
             "line": {
              "color": "#E5ECF6",
              "width": 0.5
             },
             "pattern": {
              "fillmode": "overlay",
              "size": 10,
              "solidity": 0.2
             }
            },
            "type": "bar"
           }
          ],
          "barpolar": [
           {
            "marker": {
             "line": {
              "color": "#E5ECF6",
              "width": 0.5
             },
             "pattern": {
              "fillmode": "overlay",
              "size": 10,
              "solidity": 0.2
             }
            },
            "type": "barpolar"
           }
          ],
          "carpet": [
           {
            "aaxis": {
             "endlinecolor": "#2a3f5f",
             "gridcolor": "white",
             "linecolor": "white",
             "minorgridcolor": "white",
             "startlinecolor": "#2a3f5f"
            },
            "baxis": {
             "endlinecolor": "#2a3f5f",
             "gridcolor": "white",
             "linecolor": "white",
             "minorgridcolor": "white",
             "startlinecolor": "#2a3f5f"
            },
            "type": "carpet"
           }
          ],
          "choropleth": [
           {
            "colorbar": {
             "outlinewidth": 0,
             "ticks": ""
            },
            "type": "choropleth"
           }
          ],
          "contour": [
           {
            "colorbar": {
             "outlinewidth": 0,
             "ticks": ""
            },
            "colorscale": [
             [
              0,
              "#0d0887"
             ],
             [
              0.1111111111111111,
              "#46039f"
             ],
             [
              0.2222222222222222,
              "#7201a8"
             ],
             [
              0.3333333333333333,
              "#9c179e"
             ],
             [
              0.4444444444444444,
              "#bd3786"
             ],
             [
              0.5555555555555556,
              "#d8576b"
             ],
             [
              0.6666666666666666,
              "#ed7953"
             ],
             [
              0.7777777777777778,
              "#fb9f3a"
             ],
             [
              0.8888888888888888,
              "#fdca26"
             ],
             [
              1,
              "#f0f921"
             ]
            ],
            "type": "contour"
           }
          ],
          "contourcarpet": [
           {
            "colorbar": {
             "outlinewidth": 0,
             "ticks": ""
            },
            "type": "contourcarpet"
           }
          ],
          "heatmap": [
           {
            "colorbar": {
             "outlinewidth": 0,
             "ticks": ""
            },
            "colorscale": [
             [
              0,
              "#0d0887"
             ],
             [
              0.1111111111111111,
              "#46039f"
             ],
             [
              0.2222222222222222,
              "#7201a8"
             ],
             [
              0.3333333333333333,
              "#9c179e"
             ],
             [
              0.4444444444444444,
              "#bd3786"
             ],
             [
              0.5555555555555556,
              "#d8576b"
             ],
             [
              0.6666666666666666,
              "#ed7953"
             ],
             [
              0.7777777777777778,
              "#fb9f3a"
             ],
             [
              0.8888888888888888,
              "#fdca26"
             ],
             [
              1,
              "#f0f921"
             ]
            ],
            "type": "heatmap"
           }
          ],
          "heatmapgl": [
           {
            "colorbar": {
             "outlinewidth": 0,
             "ticks": ""
            },
            "colorscale": [
             [
              0,
              "#0d0887"
             ],
             [
              0.1111111111111111,
              "#46039f"
             ],
             [
              0.2222222222222222,
              "#7201a8"
             ],
             [
              0.3333333333333333,
              "#9c179e"
             ],
             [
              0.4444444444444444,
              "#bd3786"
             ],
             [
              0.5555555555555556,
              "#d8576b"
             ],
             [
              0.6666666666666666,
              "#ed7953"
             ],
             [
              0.7777777777777778,
              "#fb9f3a"
             ],
             [
              0.8888888888888888,
              "#fdca26"
             ],
             [
              1,
              "#f0f921"
             ]
            ],
            "type": "heatmapgl"
           }
          ],
          "histogram": [
           {
            "marker": {
             "pattern": {
              "fillmode": "overlay",
              "size": 10,
              "solidity": 0.2
             }
            },
            "type": "histogram"
           }
          ],
          "histogram2d": [
           {
            "colorbar": {
             "outlinewidth": 0,
             "ticks": ""
            },
            "colorscale": [
             [
              0,
              "#0d0887"
             ],
             [
              0.1111111111111111,
              "#46039f"
             ],
             [
              0.2222222222222222,
              "#7201a8"
             ],
             [
              0.3333333333333333,
              "#9c179e"
             ],
             [
              0.4444444444444444,
              "#bd3786"
             ],
             [
              0.5555555555555556,
              "#d8576b"
             ],
             [
              0.6666666666666666,
              "#ed7953"
             ],
             [
              0.7777777777777778,
              "#fb9f3a"
             ],
             [
              0.8888888888888888,
              "#fdca26"
             ],
             [
              1,
              "#f0f921"
             ]
            ],
            "type": "histogram2d"
           }
          ],
          "histogram2dcontour": [
           {
            "colorbar": {
             "outlinewidth": 0,
             "ticks": ""
            },
            "colorscale": [
             [
              0,
              "#0d0887"
             ],
             [
              0.1111111111111111,
              "#46039f"
             ],
             [
              0.2222222222222222,
              "#7201a8"
             ],
             [
              0.3333333333333333,
              "#9c179e"
             ],
             [
              0.4444444444444444,
              "#bd3786"
             ],
             [
              0.5555555555555556,
              "#d8576b"
             ],
             [
              0.6666666666666666,
              "#ed7953"
             ],
             [
              0.7777777777777778,
              "#fb9f3a"
             ],
             [
              0.8888888888888888,
              "#fdca26"
             ],
             [
              1,
              "#f0f921"
             ]
            ],
            "type": "histogram2dcontour"
           }
          ],
          "mesh3d": [
           {
            "colorbar": {
             "outlinewidth": 0,
             "ticks": ""
            },
            "type": "mesh3d"
           }
          ],
          "parcoords": [
           {
            "line": {
             "colorbar": {
              "outlinewidth": 0,
              "ticks": ""
             }
            },
            "type": "parcoords"
           }
          ],
          "pie": [
           {
            "automargin": true,
            "type": "pie"
           }
          ],
          "scatter": [
           {
            "fillpattern": {
             "fillmode": "overlay",
             "size": 10,
             "solidity": 0.2
            },
            "type": "scatter"
           }
          ],
          "scatter3d": [
           {
            "line": {
             "colorbar": {
              "outlinewidth": 0,
              "ticks": ""
             }
            },
            "marker": {
             "colorbar": {
              "outlinewidth": 0,
              "ticks": ""
             }
            },
            "type": "scatter3d"
           }
          ],
          "scattercarpet": [
           {
            "marker": {
             "colorbar": {
              "outlinewidth": 0,
              "ticks": ""
             }
            },
            "type": "scattercarpet"
           }
          ],
          "scattergeo": [
           {
            "marker": {
             "colorbar": {
              "outlinewidth": 0,
              "ticks": ""
             }
            },
            "type": "scattergeo"
           }
          ],
          "scattergl": [
           {
            "marker": {
             "colorbar": {
              "outlinewidth": 0,
              "ticks": ""
             }
            },
            "type": "scattergl"
           }
          ],
          "scattermapbox": [
           {
            "marker": {
             "colorbar": {
              "outlinewidth": 0,
              "ticks": ""
             }
            },
            "type": "scattermapbox"
           }
          ],
          "scatterpolar": [
           {
            "marker": {
             "colorbar": {
              "outlinewidth": 0,
              "ticks": ""
             }
            },
            "type": "scatterpolar"
           }
          ],
          "scatterpolargl": [
           {
            "marker": {
             "colorbar": {
              "outlinewidth": 0,
              "ticks": ""
             }
            },
            "type": "scatterpolargl"
           }
          ],
          "scatterternary": [
           {
            "marker": {
             "colorbar": {
              "outlinewidth": 0,
              "ticks": ""
             }
            },
            "type": "scatterternary"
           }
          ],
          "surface": [
           {
            "colorbar": {
             "outlinewidth": 0,
             "ticks": ""
            },
            "colorscale": [
             [
              0,
              "#0d0887"
             ],
             [
              0.1111111111111111,
              "#46039f"
             ],
             [
              0.2222222222222222,
              "#7201a8"
             ],
             [
              0.3333333333333333,
              "#9c179e"
             ],
             [
              0.4444444444444444,
              "#bd3786"
             ],
             [
              0.5555555555555556,
              "#d8576b"
             ],
             [
              0.6666666666666666,
              "#ed7953"
             ],
             [
              0.7777777777777778,
              "#fb9f3a"
             ],
             [
              0.8888888888888888,
              "#fdca26"
             ],
             [
              1,
              "#f0f921"
             ]
            ],
            "type": "surface"
           }
          ],
          "table": [
           {
            "cells": {
             "fill": {
              "color": "#EBF0F8"
             },
             "line": {
              "color": "white"
             }
            },
            "header": {
             "fill": {
              "color": "#C8D4E3"
             },
             "line": {
              "color": "white"
             }
            },
            "type": "table"
           }
          ]
         },
         "layout": {
          "annotationdefaults": {
           "arrowcolor": "#2a3f5f",
           "arrowhead": 0,
           "arrowwidth": 1
          },
          "autotypenumbers": "strict",
          "coloraxis": {
           "colorbar": {
            "outlinewidth": 0,
            "ticks": ""
           }
          },
          "colorscale": {
           "diverging": [
            [
             0,
             "#8e0152"
            ],
            [
             0.1,
             "#c51b7d"
            ],
            [
             0.2,
             "#de77ae"
            ],
            [
             0.3,
             "#f1b6da"
            ],
            [
             0.4,
             "#fde0ef"
            ],
            [
             0.5,
             "#f7f7f7"
            ],
            [
             0.6,
             "#e6f5d0"
            ],
            [
             0.7,
             "#b8e186"
            ],
            [
             0.8,
             "#7fbc41"
            ],
            [
             0.9,
             "#4d9221"
            ],
            [
             1,
             "#276419"
            ]
           ],
           "sequential": [
            [
             0,
             "#0d0887"
            ],
            [
             0.1111111111111111,
             "#46039f"
            ],
            [
             0.2222222222222222,
             "#7201a8"
            ],
            [
             0.3333333333333333,
             "#9c179e"
            ],
            [
             0.4444444444444444,
             "#bd3786"
            ],
            [
             0.5555555555555556,
             "#d8576b"
            ],
            [
             0.6666666666666666,
             "#ed7953"
            ],
            [
             0.7777777777777778,
             "#fb9f3a"
            ],
            [
             0.8888888888888888,
             "#fdca26"
            ],
            [
             1,
             "#f0f921"
            ]
           ],
           "sequentialminus": [
            [
             0,
             "#0d0887"
            ],
            [
             0.1111111111111111,
             "#46039f"
            ],
            [
             0.2222222222222222,
             "#7201a8"
            ],
            [
             0.3333333333333333,
             "#9c179e"
            ],
            [
             0.4444444444444444,
             "#bd3786"
            ],
            [
             0.5555555555555556,
             "#d8576b"
            ],
            [
             0.6666666666666666,
             "#ed7953"
            ],
            [
             0.7777777777777778,
             "#fb9f3a"
            ],
            [
             0.8888888888888888,
             "#fdca26"
            ],
            [
             1,
             "#f0f921"
            ]
           ]
          },
          "colorway": [
           "#636efa",
           "#EF553B",
           "#00cc96",
           "#ab63fa",
           "#FFA15A",
           "#19d3f3",
           "#FF6692",
           "#B6E880",
           "#FF97FF",
           "#FECB52"
          ],
          "font": {
           "color": "#2a3f5f"
          },
          "geo": {
           "bgcolor": "white",
           "lakecolor": "white",
           "landcolor": "#E5ECF6",
           "showlakes": true,
           "showland": true,
           "subunitcolor": "white"
          },
          "hoverlabel": {
           "align": "left"
          },
          "hovermode": "closest",
          "mapbox": {
           "style": "light"
          },
          "paper_bgcolor": "white",
          "plot_bgcolor": "#E5ECF6",
          "polar": {
           "angularaxis": {
            "gridcolor": "white",
            "linecolor": "white",
            "ticks": ""
           },
           "bgcolor": "#E5ECF6",
           "radialaxis": {
            "gridcolor": "white",
            "linecolor": "white",
            "ticks": ""
           }
          },
          "scene": {
           "xaxis": {
            "backgroundcolor": "#E5ECF6",
            "gridcolor": "white",
            "gridwidth": 2,
            "linecolor": "white",
            "showbackground": true,
            "ticks": "",
            "zerolinecolor": "white"
           },
           "yaxis": {
            "backgroundcolor": "#E5ECF6",
            "gridcolor": "white",
            "gridwidth": 2,
            "linecolor": "white",
            "showbackground": true,
            "ticks": "",
            "zerolinecolor": "white"
           },
           "zaxis": {
            "backgroundcolor": "#E5ECF6",
            "gridcolor": "white",
            "gridwidth": 2,
            "linecolor": "white",
            "showbackground": true,
            "ticks": "",
            "zerolinecolor": "white"
           }
          },
          "shapedefaults": {
           "line": {
            "color": "#2a3f5f"
           }
          },
          "ternary": {
           "aaxis": {
            "gridcolor": "white",
            "linecolor": "white",
            "ticks": ""
           },
           "baxis": {
            "gridcolor": "white",
            "linecolor": "white",
            "ticks": ""
           },
           "bgcolor": "#E5ECF6",
           "caxis": {
            "gridcolor": "white",
            "linecolor": "white",
            "ticks": ""
           }
          },
          "title": {
           "x": 0.05
          },
          "xaxis": {
           "automargin": true,
           "gridcolor": "white",
           "linecolor": "white",
           "ticks": "",
           "title": {
            "standoff": 15
           },
           "zerolinecolor": "white",
           "zerolinewidth": 2
          },
          "yaxis": {
           "automargin": true,
           "gridcolor": "white",
           "linecolor": "white",
           "ticks": "",
           "title": {
            "standoff": 15
           },
           "zerolinecolor": "white",
           "zerolinewidth": 2
          }
         }
        },
        "xaxis": {
         "anchor": "y",
         "domain": [
          0,
          1
         ],
         "title": {
          "text": "Time"
         }
        },
        "yaxis": {
         "anchor": "x",
         "domain": [
          0,
          1
         ],
         "title": {
          "text": "Level"
         }
        }
       }
      }
     },
     "metadata": {},
     "output_type": "display_data"
    }
   ],
   "source": [
    "fig = px.line(resolved, x=resolved.index, y =\"Level\", color='Accept ID')\n",
    "fig.add_hline(336) # This is what the unit SAID it would do"
   ]
  },
  {
   "cell_type": "code",
   "execution_count": 188,
   "metadata": {},
   "outputs": [
    {
     "data": {
      "application/vnd.plotly.v1+json": {
       "config": {
        "plotlyServerURL": "https://plot.ly"
       },
       "data": [
        {
         "hovertemplate": "Notification Type=BOALF<br>Time=%{x}<br>Level=%{y}<extra></extra>",
         "legendgroup": "BOALF",
         "line": {
          "color": "#636efa",
          "dash": "solid"
         },
         "marker": {
          "symbol": "circle"
         },
         "mode": "lines",
         "name": "BOALF",
         "orientation": "v",
         "showlegend": true,
         "type": "scatter",
         "x": [
          "2022-03-19T12:49:00",
          "2022-03-19T12:50:00",
          "2022-03-19T12:51:00",
          "2022-03-19T12:52:00",
          "2022-03-19T12:53:00",
          "2022-03-19T12:54:00",
          "2022-03-19T12:55:00",
          "2022-03-19T12:56:00",
          "2022-03-19T12:57:00",
          "2022-03-19T12:58:00",
          "2022-03-19T12:59:00",
          "2022-03-19T13:00:00",
          "2022-03-19T13:01:00",
          "2022-03-19T13:02:00",
          "2022-03-19T13:03:00",
          "2022-03-19T13:04:00",
          "2022-03-19T13:05:00",
          "2022-03-19T13:06:00",
          "2022-03-19T13:07:00",
          "2022-03-19T13:08:00",
          "2022-03-19T13:09:00",
          "2022-03-19T13:10:00",
          "2022-03-19T13:11:00",
          "2022-03-19T13:12:00",
          "2022-03-19T13:13:00",
          "2022-03-19T13:14:00",
          "2022-03-19T13:15:00",
          "2022-03-19T13:16:00",
          "2022-03-19T13:17:00",
          "2022-03-19T13:18:00",
          "2022-03-19T13:19:00",
          "2022-03-19T13:20:00",
          "2022-03-19T13:21:00",
          "2022-03-19T13:22:00",
          "2022-03-19T13:23:00",
          "2022-03-19T13:24:00",
          "2022-03-19T13:25:00",
          "2022-03-19T13:26:00",
          "2022-03-19T13:27:00",
          "2022-03-19T13:28:00",
          "2022-03-19T13:29:00",
          "2022-03-19T13:30:00",
          "2022-03-19T13:31:00",
          "2022-03-19T13:32:00",
          "2022-03-19T13:33:00",
          "2022-03-19T13:34:00",
          "2022-03-19T13:35:00",
          "2022-03-19T13:36:00",
          "2022-03-19T13:37:00",
          "2022-03-19T13:38:00",
          "2022-03-19T13:39:00",
          "2022-03-19T13:40:00",
          "2022-03-19T13:41:00",
          "2022-03-19T13:42:00",
          "2022-03-19T13:43:00",
          "2022-03-19T13:44:00",
          "2022-03-19T13:45:00",
          "2022-03-19T13:46:00",
          "2022-03-19T13:47:00",
          "2022-03-19T13:48:00",
          "2022-03-19T13:49:00",
          "2022-03-19T13:50:00",
          "2022-03-19T13:51:00",
          "2022-03-19T13:52:00"
         ],
         "xaxis": "x",
         "y": [
          230,
          230,
          230,
          230,
          230,
          230,
          230,
          230,
          230,
          230,
          230,
          230,
          230,
          230,
          230,
          230,
          230,
          230,
          230,
          230,
          230,
          230,
          230,
          230,
          230,
          230,
          230,
          230,
          230,
          230,
          230,
          230,
          230,
          220,
          220,
          220,
          220,
          220,
          220,
          220,
          220,
          220,
          220,
          220,
          220,
          220,
          220,
          220,
          220,
          220,
          220,
          220,
          220,
          220,
          220,
          220,
          220,
          220,
          220,
          220,
          220,
          220,
          220,
          220
         ],
         "yaxis": "y"
        },
        {
         "hovertemplate": "Notification Type=FPN<br>Time=%{x}<br>Level=%{y}<extra></extra>",
         "legendgroup": "FPN",
         "line": {
          "color": "#EF553B",
          "dash": "solid"
         },
         "marker": {
          "symbol": "circle"
         },
         "mode": "lines",
         "name": "FPN",
         "orientation": "v",
         "showlegend": true,
         "type": "scatter",
         "x": [
          "2022-03-19T13:00:00",
          "2022-03-19T13:01:00",
          "2022-03-19T13:02:00",
          "2022-03-19T13:03:00",
          "2022-03-19T13:04:00",
          "2022-03-19T13:05:00",
          "2022-03-19T13:06:00",
          "2022-03-19T13:07:00",
          "2022-03-19T13:08:00",
          "2022-03-19T13:09:00",
          "2022-03-19T13:10:00",
          "2022-03-19T13:11:00",
          "2022-03-19T13:12:00",
          "2022-03-19T13:13:00",
          "2022-03-19T13:14:00",
          "2022-03-19T13:15:00",
          "2022-03-19T13:16:00",
          "2022-03-19T13:17:00",
          "2022-03-19T13:18:00",
          "2022-03-19T13:19:00",
          "2022-03-19T13:20:00",
          "2022-03-19T13:21:00",
          "2022-03-19T13:22:00",
          "2022-03-19T13:23:00",
          "2022-03-19T13:24:00",
          "2022-03-19T13:25:00",
          "2022-03-19T13:26:00",
          "2022-03-19T13:27:00",
          "2022-03-19T13:28:00",
          "2022-03-19T13:29:00",
          "2022-03-19T13:30:00"
         ],
         "xaxis": "x",
         "y": [
          336,
          336,
          336,
          336,
          336,
          336,
          336,
          336,
          336,
          336,
          336,
          336,
          336,
          336,
          336,
          336,
          336,
          336,
          336,
          336,
          336,
          336,
          336,
          336,
          336,
          336,
          336,
          336,
          336,
          336,
          336
         ],
         "yaxis": "y"
        }
       ],
       "layout": {
        "legend": {
         "title": {
          "text": "Notification Type"
         },
         "tracegroupgap": 0
        },
        "margin": {
         "t": 60
        },
        "template": {
         "data": {
          "bar": [
           {
            "error_x": {
             "color": "#2a3f5f"
            },
            "error_y": {
             "color": "#2a3f5f"
            },
            "marker": {
             "line": {
              "color": "#E5ECF6",
              "width": 0.5
             },
             "pattern": {
              "fillmode": "overlay",
              "size": 10,
              "solidity": 0.2
             }
            },
            "type": "bar"
           }
          ],
          "barpolar": [
           {
            "marker": {
             "line": {
              "color": "#E5ECF6",
              "width": 0.5
             },
             "pattern": {
              "fillmode": "overlay",
              "size": 10,
              "solidity": 0.2
             }
            },
            "type": "barpolar"
           }
          ],
          "carpet": [
           {
            "aaxis": {
             "endlinecolor": "#2a3f5f",
             "gridcolor": "white",
             "linecolor": "white",
             "minorgridcolor": "white",
             "startlinecolor": "#2a3f5f"
            },
            "baxis": {
             "endlinecolor": "#2a3f5f",
             "gridcolor": "white",
             "linecolor": "white",
             "minorgridcolor": "white",
             "startlinecolor": "#2a3f5f"
            },
            "type": "carpet"
           }
          ],
          "choropleth": [
           {
            "colorbar": {
             "outlinewidth": 0,
             "ticks": ""
            },
            "type": "choropleth"
           }
          ],
          "contour": [
           {
            "colorbar": {
             "outlinewidth": 0,
             "ticks": ""
            },
            "colorscale": [
             [
              0,
              "#0d0887"
             ],
             [
              0.1111111111111111,
              "#46039f"
             ],
             [
              0.2222222222222222,
              "#7201a8"
             ],
             [
              0.3333333333333333,
              "#9c179e"
             ],
             [
              0.4444444444444444,
              "#bd3786"
             ],
             [
              0.5555555555555556,
              "#d8576b"
             ],
             [
              0.6666666666666666,
              "#ed7953"
             ],
             [
              0.7777777777777778,
              "#fb9f3a"
             ],
             [
              0.8888888888888888,
              "#fdca26"
             ],
             [
              1,
              "#f0f921"
             ]
            ],
            "type": "contour"
           }
          ],
          "contourcarpet": [
           {
            "colorbar": {
             "outlinewidth": 0,
             "ticks": ""
            },
            "type": "contourcarpet"
           }
          ],
          "heatmap": [
           {
            "colorbar": {
             "outlinewidth": 0,
             "ticks": ""
            },
            "colorscale": [
             [
              0,
              "#0d0887"
             ],
             [
              0.1111111111111111,
              "#46039f"
             ],
             [
              0.2222222222222222,
              "#7201a8"
             ],
             [
              0.3333333333333333,
              "#9c179e"
             ],
             [
              0.4444444444444444,
              "#bd3786"
             ],
             [
              0.5555555555555556,
              "#d8576b"
             ],
             [
              0.6666666666666666,
              "#ed7953"
             ],
             [
              0.7777777777777778,
              "#fb9f3a"
             ],
             [
              0.8888888888888888,
              "#fdca26"
             ],
             [
              1,
              "#f0f921"
             ]
            ],
            "type": "heatmap"
           }
          ],
          "heatmapgl": [
           {
            "colorbar": {
             "outlinewidth": 0,
             "ticks": ""
            },
            "colorscale": [
             [
              0,
              "#0d0887"
             ],
             [
              0.1111111111111111,
              "#46039f"
             ],
             [
              0.2222222222222222,
              "#7201a8"
             ],
             [
              0.3333333333333333,
              "#9c179e"
             ],
             [
              0.4444444444444444,
              "#bd3786"
             ],
             [
              0.5555555555555556,
              "#d8576b"
             ],
             [
              0.6666666666666666,
              "#ed7953"
             ],
             [
              0.7777777777777778,
              "#fb9f3a"
             ],
             [
              0.8888888888888888,
              "#fdca26"
             ],
             [
              1,
              "#f0f921"
             ]
            ],
            "type": "heatmapgl"
           }
          ],
          "histogram": [
           {
            "marker": {
             "pattern": {
              "fillmode": "overlay",
              "size": 10,
              "solidity": 0.2
             }
            },
            "type": "histogram"
           }
          ],
          "histogram2d": [
           {
            "colorbar": {
             "outlinewidth": 0,
             "ticks": ""
            },
            "colorscale": [
             [
              0,
              "#0d0887"
             ],
             [
              0.1111111111111111,
              "#46039f"
             ],
             [
              0.2222222222222222,
              "#7201a8"
             ],
             [
              0.3333333333333333,
              "#9c179e"
             ],
             [
              0.4444444444444444,
              "#bd3786"
             ],
             [
              0.5555555555555556,
              "#d8576b"
             ],
             [
              0.6666666666666666,
              "#ed7953"
             ],
             [
              0.7777777777777778,
              "#fb9f3a"
             ],
             [
              0.8888888888888888,
              "#fdca26"
             ],
             [
              1,
              "#f0f921"
             ]
            ],
            "type": "histogram2d"
           }
          ],
          "histogram2dcontour": [
           {
            "colorbar": {
             "outlinewidth": 0,
             "ticks": ""
            },
            "colorscale": [
             [
              0,
              "#0d0887"
             ],
             [
              0.1111111111111111,
              "#46039f"
             ],
             [
              0.2222222222222222,
              "#7201a8"
             ],
             [
              0.3333333333333333,
              "#9c179e"
             ],
             [
              0.4444444444444444,
              "#bd3786"
             ],
             [
              0.5555555555555556,
              "#d8576b"
             ],
             [
              0.6666666666666666,
              "#ed7953"
             ],
             [
              0.7777777777777778,
              "#fb9f3a"
             ],
             [
              0.8888888888888888,
              "#fdca26"
             ],
             [
              1,
              "#f0f921"
             ]
            ],
            "type": "histogram2dcontour"
           }
          ],
          "mesh3d": [
           {
            "colorbar": {
             "outlinewidth": 0,
             "ticks": ""
            },
            "type": "mesh3d"
           }
          ],
          "parcoords": [
           {
            "line": {
             "colorbar": {
              "outlinewidth": 0,
              "ticks": ""
             }
            },
            "type": "parcoords"
           }
          ],
          "pie": [
           {
            "automargin": true,
            "type": "pie"
           }
          ],
          "scatter": [
           {
            "fillpattern": {
             "fillmode": "overlay",
             "size": 10,
             "solidity": 0.2
            },
            "type": "scatter"
           }
          ],
          "scatter3d": [
           {
            "line": {
             "colorbar": {
              "outlinewidth": 0,
              "ticks": ""
             }
            },
            "marker": {
             "colorbar": {
              "outlinewidth": 0,
              "ticks": ""
             }
            },
            "type": "scatter3d"
           }
          ],
          "scattercarpet": [
           {
            "marker": {
             "colorbar": {
              "outlinewidth": 0,
              "ticks": ""
             }
            },
            "type": "scattercarpet"
           }
          ],
          "scattergeo": [
           {
            "marker": {
             "colorbar": {
              "outlinewidth": 0,
              "ticks": ""
             }
            },
            "type": "scattergeo"
           }
          ],
          "scattergl": [
           {
            "marker": {
             "colorbar": {
              "outlinewidth": 0,
              "ticks": ""
             }
            },
            "type": "scattergl"
           }
          ],
          "scattermapbox": [
           {
            "marker": {
             "colorbar": {
              "outlinewidth": 0,
              "ticks": ""
             }
            },
            "type": "scattermapbox"
           }
          ],
          "scatterpolar": [
           {
            "marker": {
             "colorbar": {
              "outlinewidth": 0,
              "ticks": ""
             }
            },
            "type": "scatterpolar"
           }
          ],
          "scatterpolargl": [
           {
            "marker": {
             "colorbar": {
              "outlinewidth": 0,
              "ticks": ""
             }
            },
            "type": "scatterpolargl"
           }
          ],
          "scatterternary": [
           {
            "marker": {
             "colorbar": {
              "outlinewidth": 0,
              "ticks": ""
             }
            },
            "type": "scatterternary"
           }
          ],
          "surface": [
           {
            "colorbar": {
             "outlinewidth": 0,
             "ticks": ""
            },
            "colorscale": [
             [
              0,
              "#0d0887"
             ],
             [
              0.1111111111111111,
              "#46039f"
             ],
             [
              0.2222222222222222,
              "#7201a8"
             ],
             [
              0.3333333333333333,
              "#9c179e"
             ],
             [
              0.4444444444444444,
              "#bd3786"
             ],
             [
              0.5555555555555556,
              "#d8576b"
             ],
             [
              0.6666666666666666,
              "#ed7953"
             ],
             [
              0.7777777777777778,
              "#fb9f3a"
             ],
             [
              0.8888888888888888,
              "#fdca26"
             ],
             [
              1,
              "#f0f921"
             ]
            ],
            "type": "surface"
           }
          ],
          "table": [
           {
            "cells": {
             "fill": {
              "color": "#EBF0F8"
             },
             "line": {
              "color": "white"
             }
            },
            "header": {
             "fill": {
              "color": "#C8D4E3"
             },
             "line": {
              "color": "white"
             }
            },
            "type": "table"
           }
          ]
         },
         "layout": {
          "annotationdefaults": {
           "arrowcolor": "#2a3f5f",
           "arrowhead": 0,
           "arrowwidth": 1
          },
          "autotypenumbers": "strict",
          "coloraxis": {
           "colorbar": {
            "outlinewidth": 0,
            "ticks": ""
           }
          },
          "colorscale": {
           "diverging": [
            [
             0,
             "#8e0152"
            ],
            [
             0.1,
             "#c51b7d"
            ],
            [
             0.2,
             "#de77ae"
            ],
            [
             0.3,
             "#f1b6da"
            ],
            [
             0.4,
             "#fde0ef"
            ],
            [
             0.5,
             "#f7f7f7"
            ],
            [
             0.6,
             "#e6f5d0"
            ],
            [
             0.7,
             "#b8e186"
            ],
            [
             0.8,
             "#7fbc41"
            ],
            [
             0.9,
             "#4d9221"
            ],
            [
             1,
             "#276419"
            ]
           ],
           "sequential": [
            [
             0,
             "#0d0887"
            ],
            [
             0.1111111111111111,
             "#46039f"
            ],
            [
             0.2222222222222222,
             "#7201a8"
            ],
            [
             0.3333333333333333,
             "#9c179e"
            ],
            [
             0.4444444444444444,
             "#bd3786"
            ],
            [
             0.5555555555555556,
             "#d8576b"
            ],
            [
             0.6666666666666666,
             "#ed7953"
            ],
            [
             0.7777777777777778,
             "#fb9f3a"
            ],
            [
             0.8888888888888888,
             "#fdca26"
            ],
            [
             1,
             "#f0f921"
            ]
           ],
           "sequentialminus": [
            [
             0,
             "#0d0887"
            ],
            [
             0.1111111111111111,
             "#46039f"
            ],
            [
             0.2222222222222222,
             "#7201a8"
            ],
            [
             0.3333333333333333,
             "#9c179e"
            ],
            [
             0.4444444444444444,
             "#bd3786"
            ],
            [
             0.5555555555555556,
             "#d8576b"
            ],
            [
             0.6666666666666666,
             "#ed7953"
            ],
            [
             0.7777777777777778,
             "#fb9f3a"
            ],
            [
             0.8888888888888888,
             "#fdca26"
            ],
            [
             1,
             "#f0f921"
            ]
           ]
          },
          "colorway": [
           "#636efa",
           "#EF553B",
           "#00cc96",
           "#ab63fa",
           "#FFA15A",
           "#19d3f3",
           "#FF6692",
           "#B6E880",
           "#FF97FF",
           "#FECB52"
          ],
          "font": {
           "color": "#2a3f5f"
          },
          "geo": {
           "bgcolor": "white",
           "lakecolor": "white",
           "landcolor": "#E5ECF6",
           "showlakes": true,
           "showland": true,
           "subunitcolor": "white"
          },
          "hoverlabel": {
           "align": "left"
          },
          "hovermode": "closest",
          "mapbox": {
           "style": "light"
          },
          "paper_bgcolor": "white",
          "plot_bgcolor": "#E5ECF6",
          "polar": {
           "angularaxis": {
            "gridcolor": "white",
            "linecolor": "white",
            "ticks": ""
           },
           "bgcolor": "#E5ECF6",
           "radialaxis": {
            "gridcolor": "white",
            "linecolor": "white",
            "ticks": ""
           }
          },
          "scene": {
           "xaxis": {
            "backgroundcolor": "#E5ECF6",
            "gridcolor": "white",
            "gridwidth": 2,
            "linecolor": "white",
            "showbackground": true,
            "ticks": "",
            "zerolinecolor": "white"
           },
           "yaxis": {
            "backgroundcolor": "#E5ECF6",
            "gridcolor": "white",
            "gridwidth": 2,
            "linecolor": "white",
            "showbackground": true,
            "ticks": "",
            "zerolinecolor": "white"
           },
           "zaxis": {
            "backgroundcolor": "#E5ECF6",
            "gridcolor": "white",
            "gridwidth": 2,
            "linecolor": "white",
            "showbackground": true,
            "ticks": "",
            "zerolinecolor": "white"
           }
          },
          "shapedefaults": {
           "line": {
            "color": "#2a3f5f"
           }
          },
          "ternary": {
           "aaxis": {
            "gridcolor": "white",
            "linecolor": "white",
            "ticks": ""
           },
           "baxis": {
            "gridcolor": "white",
            "linecolor": "white",
            "ticks": ""
           },
           "bgcolor": "#E5ECF6",
           "caxis": {
            "gridcolor": "white",
            "linecolor": "white",
            "ticks": ""
           }
          },
          "title": {
           "x": 0.05
          },
          "xaxis": {
           "automargin": true,
           "gridcolor": "white",
           "linecolor": "white",
           "ticks": "",
           "title": {
            "standoff": 15
           },
           "zerolinecolor": "white",
           "zerolinewidth": 2
          },
          "yaxis": {
           "automargin": true,
           "gridcolor": "white",
           "linecolor": "white",
           "ticks": "",
           "title": {
            "standoff": 15
           },
           "zerolinecolor": "white",
           "zerolinewidth": 2
          }
         }
        },
        "xaxis": {
         "anchor": "y",
         "domain": [
          0,
          1
         ],
         "title": {
          "text": "Time"
         }
        },
        "yaxis": {
         "anchor": "x",
         "domain": [
          0,
          1
         ],
         "title": {
          "text": "Level"
         }
        }
       }
      }
     },
     "metadata": {},
     "output_type": "display_data"
    }
   ],
   "source": [
    "px.line(combined, x=combined.index, y='Level', color='Notification Type')"
   ]
  },
  {
   "cell_type": "code",
   "execution_count": null,
   "metadata": {},
   "outputs": [],
   "source": []
  },
  {
   "cell_type": "code",
   "execution_count": null,
   "metadata": {},
   "outputs": [],
   "source": []
  },
  {
   "cell_type": "code",
   "execution_count": null,
   "metadata": {},
   "outputs": [],
   "source": []
  }
 ],
 "metadata": {
  "interpreter": {
   "hash": "9ea56def47d7b993b4fa4448f50e9a1ad0c40747e90fa0876361919c4770db48"
  },
  "kernelspec": {
   "display_name": "Python 3.9.0 64-bit ('curtailment')",
   "language": "python",
   "name": "python3"
  },
  "language_info": {
   "codemirror_mode": {
    "name": "ipython",
    "version": 3
   },
   "file_extension": ".py",
   "mimetype": "text/x-python",
   "name": "python",
   "nbconvert_exporter": "python",
   "pygments_lexer": "ipython3",
   "version": "3.9.0"
  },
  "orig_nbformat": 4
 },
 "nbformat": 4,
 "nbformat_minor": 2
}
